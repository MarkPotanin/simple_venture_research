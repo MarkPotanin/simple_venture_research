{
 "cells": [
  {
   "cell_type": "code",
   "execution_count": 1,
   "id": "396387ec",
   "metadata": {},
   "outputs": [],
   "source": [
    "import pandas as pd\n",
    "import os\n",
    "pd.set_option('display.max_columns',None)\n",
    "from matplotlib import pyplot as plt\n",
    "import numpy as np"
   ]
  },
  {
   "cell_type": "code",
   "execution_count": 2,
   "id": "71d65586",
   "metadata": {},
   "outputs": [],
   "source": [
    "from sklearn.preprocessing import LabelEncoder"
   ]
  },
  {
   "cell_type": "code",
   "execution_count": 3,
   "id": "61bc0ab8",
   "metadata": {},
   "outputs": [],
   "source": [
    "organizations = pd.read_csv('../CRUNCHBASE_DATA/bulk_export/organizations.csv')"
   ]
  },
  {
   "cell_type": "code",
   "execution_count": 4,
   "id": "71486032",
   "metadata": {},
   "outputs": [],
   "source": [
    "organizations['founded_on'] = pd.to_datetime(organizations['founded_on'],errors='coerce')"
   ]
  },
  {
   "cell_type": "code",
   "execution_count": 5,
   "id": "1b504947",
   "metadata": {},
   "outputs": [],
   "source": [
    "funding_rounds = pd.read_csv('../CRUNCHBASE_DATA/bulk_export/funding_rounds.csv')"
   ]
  },
  {
   "cell_type": "markdown",
   "id": "47deca8e",
   "metadata": {},
   "source": [
    "# Формирование таргета"
   ]
  },
  {
   "cell_type": "markdown",
   "id": "bb929b6d",
   "metadata": {},
   "source": [
    "Сейчас рассматриваем бейзлайн модель. Таргет будем формировать как в нескольких статьях, на которые обращали внимание (обзоры есть в моем notion).\n",
    "\n",
    "В единичку будем записывать те компании, которые получили IPO, ACQ, ROUND A или B."
   ]
  },
  {
   "cell_type": "code",
   "execution_count": 6,
   "id": "dce1776d",
   "metadata": {},
   "outputs": [],
   "source": [
    "ipos = pd.read_csv('../CRUNCHBASE_DATA/bulk_export/ipos.csv')\n",
    "#ipos['went_public_on'] = pd.to_datetime(ipos['went_public_on'])\n",
    "#ipos = ipos[ipos.went_public_on>'2010-01-01']\n",
    "\n",
    "acquisitions = pd.read_csv('../CRUNCHBASE_DATA/bulk_export/acquisitions.csv')\n",
    "#acquisitions['acquired_on'] = pd.to_datetime(acquisitions['acquired_on'])\n",
    "#acquisitions = acquisitions[acquisitions.acquired_on>'2010-01-01']"
   ]
  },
  {
   "cell_type": "code",
   "execution_count": 7,
   "id": "2c877b93",
   "metadata": {
    "scrolled": true
   },
   "outputs": [
    {
     "data": {
      "text/plain": [
       "operating    1779970\n",
       "closed        138475\n",
       "acquired      113284\n",
       "ipo            41277\n",
       "Name: status, dtype: int64"
      ]
     },
     "execution_count": 7,
     "metadata": {},
     "output_type": "execute_result"
    }
   ],
   "source": [
    "organizations.status.value_counts()# Всего уникальных меток статуса"
   ]
  },
  {
   "cell_type": "markdown",
   "id": "d8b09b25",
   "metadata": {},
   "source": [
    "Тут наверное сразу нужно продемонстрировать одну вещь. Она говорит о том, что данные в базе обновляются (что логично). Но с помощью доп. табличек можно вытащить историческую информацию.\n",
    "\n",
    "Ниже пример. Мы берем компании из acquisitions.csv. И смотрим на их актуальный статус в таблице организаций. Видно что около 10% компаний, которые были приобретены - закрылись.\n",
    "\n",
    "С IPO следующая картина - подавляющее большинство компаний остались в статусе IPO. Немного были приобретены и совсем малая часть закрылась."
   ]
  },
  {
   "cell_type": "code",
   "execution_count": 8,
   "id": "36636af0",
   "metadata": {},
   "outputs": [
    {
     "data": {
      "text/plain": [
       "acquired    113281\n",
       "closed       15279\n",
       "Name: status, dtype: int64"
      ]
     },
     "execution_count": 8,
     "metadata": {},
     "output_type": "execute_result"
    }
   ],
   "source": [
    "organizations[organizations.uuid.isin(acquisitions.acquiree_uuid)]['status'].value_counts()"
   ]
  },
  {
   "cell_type": "code",
   "execution_count": 9,
   "id": "e9dede32",
   "metadata": {},
   "outputs": [
    {
     "data": {
      "text/plain": [
       "ipo         41277\n",
       "acquired     3511\n",
       "closed       1685\n",
       "Name: status, dtype: int64"
      ]
     },
     "execution_count": 9,
     "metadata": {},
     "output_type": "execute_result"
    }
   ],
   "source": [
    "organizations[organizations.uuid.isin(ipos.org_uuid)]['status'].value_counts()"
   ]
  },
  {
   "cell_type": "markdown",
   "id": "e725a350",
   "metadata": {},
   "source": [
    "Я предлагаю компании, которые были образованы не ранее 2005 года. \n",
    "\n",
    "В одной статье берут в рассмотрение данные с 1995 года. Мне кажется что туда довольно много мусора попадает. Плюс самая ранняя запись в таблице организаций `Timestamp('2007-05-25 13:51:27').` То есть это начала существования базы данных CB.\n",
    "\n",
    "Плюс мы ислючаем доткомовский пузырь. Он вроде в 2000 закончился."
   ]
  },
  {
   "cell_type": "markdown",
   "id": "c38cca02",
   "metadata": {},
   "source": [
    "Проблема в том, что около 20 процентов компаний не имеют даты основания."
   ]
  },
  {
   "cell_type": "code",
   "execution_count": 10,
   "id": "fe417843",
   "metadata": {},
   "outputs": [
    {
     "data": {
      "text/plain": [
       "False    1608707\n",
       "True      464299\n",
       "Name: founded_on, dtype: int64"
      ]
     },
     "execution_count": 10,
     "metadata": {},
     "output_type": "execute_result"
    }
   ],
   "source": [
    "organizations['founded_on'].isnull().value_counts()"
   ]
  },
  {
   "cell_type": "code",
   "execution_count": 11,
   "id": "b321215d",
   "metadata": {},
   "outputs": [],
   "source": [
    "null_founded_org = organizations[organizations['founded_on'].isnull()]"
   ]
  },
  {
   "cell_type": "code",
   "execution_count": 12,
   "id": "4f7f3332",
   "metadata": {},
   "outputs": [
    {
     "data": {
      "text/plain": [
       "(464299, 41)"
      ]
     },
     "execution_count": 12,
     "metadata": {},
     "output_type": "execute_result"
    }
   ],
   "source": [
    "null_founded_org.shape"
   ]
  },
  {
   "cell_type": "code",
   "execution_count": 13,
   "id": "67876a18",
   "metadata": {},
   "outputs": [
    {
     "data": {
      "text/plain": [
       "operating    408174\n",
       "closed        30436\n",
       "acquired      21636\n",
       "ipo            4053\n",
       "Name: status, dtype: int64"
      ]
     },
     "execution_count": 13,
     "metadata": {},
     "output_type": "execute_result"
    }
   ],
   "source": [
    "null_founded_org['status'].value_counts()"
   ]
  },
  {
   "cell_type": "markdown",
   "id": "ba166a7b",
   "metadata": {},
   "source": [
    "Давайте посмотрим есть ли по этим компаниями хоть какая то информация по смежным таблицам."
   ]
  },
  {
   "cell_type": "markdown",
   "id": "13421bad",
   "metadata": {},
   "source": [
    "Пересечение с ACQ или IPO небольшое."
   ]
  },
  {
   "cell_type": "code",
   "execution_count": 14,
   "id": "479d3248",
   "metadata": {},
   "outputs": [
    {
     "data": {
      "text/plain": [
       "(27375, 41)"
      ]
     },
     "execution_count": 14,
     "metadata": {},
     "output_type": "execute_result"
    }
   ],
   "source": [
    "null_founded_org[null_founded_org.uuid.isin(acquisitions.acquiree_uuid)|null_founded_org.uuid.isin(ipos.org_uuid)].shape"
   ]
  },
  {
   "cell_type": "markdown",
   "id": "1b941203",
   "metadata": {},
   "source": [
    "Пересечение с funding_rounds еще меньше."
   ]
  },
  {
   "cell_type": "code",
   "execution_count": 15,
   "id": "27282d86",
   "metadata": {},
   "outputs": [
    {
     "data": {
      "text/plain": [
       "(11433, 41)"
      ]
     },
     "execution_count": 15,
     "metadata": {},
     "output_type": "execute_result"
    }
   ],
   "source": [
    "null_founded_org[null_founded_org.uuid.isin(funding_rounds.org_uuid)].shape"
   ]
  },
  {
   "cell_type": "markdown",
   "id": "5b65ab4a",
   "metadata": {},
   "source": [
    "В общем есть ощущение, что раз уж по этим компаниям мы пока что не можем получить никакой информации - стоит убрать их рассмотрения. Потому что по сути мы никак не можем положить их на временную шкалу."
   ]
  },
  {
   "cell_type": "code",
   "execution_count": 16,
   "id": "061ae0df",
   "metadata": {},
   "outputs": [],
   "source": [
    "organizations = organizations[~organizations['founded_on'].isnull()]"
   ]
  },
  {
   "cell_type": "code",
   "execution_count": 17,
   "id": "dcfe2bfc",
   "metadata": {},
   "outputs": [
    {
     "data": {
      "text/plain": [
       "(1608707, 41)"
      ]
     },
     "execution_count": 17,
     "metadata": {},
     "output_type": "execute_result"
    }
   ],
   "source": [
    "organizations.shape"
   ]
  },
  {
   "cell_type": "markdown",
   "id": "41ccf50c",
   "metadata": {},
   "source": [
    "Возьмем организации у которых статус acquired/ipo."
   ]
  },
  {
   "cell_type": "code",
   "execution_count": 18,
   "id": "46199619",
   "metadata": {},
   "outputs": [],
   "source": [
    "acq_or_ipo = organizations[organizations.status.isin(['acquired','ipo'])]"
   ]
  },
  {
   "cell_type": "code",
   "execution_count": 19,
   "id": "fc2af7d3",
   "metadata": {},
   "outputs": [
    {
     "data": {
      "text/plain": [
       "(128872, 41)"
      ]
     },
     "execution_count": 19,
     "metadata": {},
     "output_type": "execute_result"
    }
   ],
   "source": [
    "acq_or_ipo.shape"
   ]
  },
  {
   "cell_type": "markdown",
   "id": "10246c3d",
   "metadata": {},
   "source": [
    "Теперь добавим к ним те, которые получили интересующие нас раунды финансирования.\n",
    "\n",
    "Я беру A и B."
   ]
  },
  {
   "cell_type": "code",
   "execution_count": 20,
   "id": "4f37baa0",
   "metadata": {},
   "outputs": [],
   "source": [
    "ones_rounds = funding_rounds[funding_rounds.investment_type.isin(['series_a', 'series_b'])]"
   ]
  },
  {
   "cell_type": "markdown",
   "id": "4d19ae9f",
   "metadata": {},
   "source": [
    "Можно убрать тех, по которым неизвестна сумма поднятых денег, но пока не будем. Потому что по тем, которые IPO и ACQ ОЧЕНЬ много пропущенных значенмй в графе поднятных денег."
   ]
  },
  {
   "cell_type": "code",
   "execution_count": 21,
   "id": "549c7e6d",
   "metadata": {},
   "outputs": [
    {
     "data": {
      "text/plain": [
       "True     36445\n",
       "False     5460\n",
       "Name: money_raised, dtype: int64"
      ]
     },
     "execution_count": 21,
     "metadata": {},
     "output_type": "execute_result"
    }
   ],
   "source": [
    "ipos[ipos.org_uuid.isin(acq_or_ipo.uuid)]['money_raised'].isnull().value_counts()"
   ]
  },
  {
   "cell_type": "code",
   "execution_count": 22,
   "id": "82b5db48",
   "metadata": {},
   "outputs": [
    {
     "data": {
      "text/plain": [
       "True     39079\n",
       "False     2826\n",
       "Name: valuation_price, dtype: int64"
      ]
     },
     "execution_count": 22,
     "metadata": {},
     "output_type": "execute_result"
    }
   ],
   "source": [
    "ipos[ipos.org_uuid.isin(acq_or_ipo.uuid)]['valuation_price'].isnull().value_counts()"
   ]
  },
  {
   "cell_type": "code",
   "execution_count": 23,
   "id": "6166eebb",
   "metadata": {},
   "outputs": [
    {
     "data": {
      "text/plain": [
       "True     81513\n",
       "False    18031\n",
       "Name: price, dtype: int64"
      ]
     },
     "execution_count": 23,
     "metadata": {},
     "output_type": "execute_result"
    }
   ],
   "source": [
    "acquisitions[acquisitions.acquiree_uuid.isin(acq_or_ipo.uuid)]['price'].isnull().value_counts()"
   ]
  },
  {
   "cell_type": "markdown",
   "id": "b783213d",
   "metadata": {},
   "source": [
    "В [этой](https://reader.elsevier.com/reader/sd/pii/S0306457321000595?token=9C3DE156C6650E543E8D51256AA926CC399481A33D96891B33889A8501C1D6D86FF7CA35FA5859C18E9EBBF79DFD3B05&originRegion=eu-west-1&originCreation=20220616162446) статье в нолики записывают все остальные компании, кроме вышеперечисленных. То есть единички - это ACQ, IPO, A и B. Я считаю что это в корне неправильно.\n",
    "\n",
    "Да, окей, у нас есть closed компании. Но остальные operating компании имеют статус в funding rounds - один из огромной таблицы.\n",
    "\n",
    "Ниже пример. Мы взяли компании со статусом operating - то есть это те компании, у которых не IPO и не acquisition. По ним нашли funding rounds. И ниже табличка с частотностью типов фандинга для этих компаний.\n",
    "\n",
    "То есть компания может быть opearing, что фандинг раунд у нее grant или вообще post_ipo_debt."
   ]
  },
  {
   "cell_type": "code",
   "execution_count": 24,
   "id": "a259cf9a",
   "metadata": {},
   "outputs": [],
   "source": [
    "operating = organizations[organizations.status=='operating']"
   ]
  },
  {
   "cell_type": "code",
   "execution_count": 25,
   "id": "e2e5d3da",
   "metadata": {
    "scrolled": false
   },
   "outputs": [
    {
     "data": {
      "text/plain": [
       "seed                     100347\n",
       "series_unknown            48228\n",
       "series_a                  37315\n",
       "pre_seed                  30013\n",
       "grant                     25186\n",
       "angel                     18485\n",
       "series_b                  16190\n",
       "debt_financing            12795\n",
       "non_equity_assistance      9714\n",
       "private_equity             9252\n",
       "convertible_note           7186\n",
       "series_c                   6620\n",
       "equity_crowdfunding        5929\n",
       "undisclosed                5342\n",
       "corporate_round            3612\n",
       "series_d                   2630\n",
       "series_e                   1008\n",
       "product_crowdfunding        952\n",
       "secondary_market            871\n",
       "initial_coin_offering       698\n",
       "series_f                    351\n",
       "series_g                    122\n",
       "post_ipo_equity              97\n",
       "series_h                     44\n",
       "series_i                     16\n",
       "post_ipo_debt                14\n",
       "series_j                     12\n",
       "post_ipo_secondary            2\n",
       "Name: investment_type, dtype: int64"
      ]
     },
     "execution_count": 25,
     "metadata": {},
     "output_type": "execute_result"
    }
   ],
   "source": [
    "funding_rounds[funding_rounds.org_uuid.isin(operating.uuid)]['investment_type'].value_counts()"
   ]
  },
  {
   "cell_type": "code",
   "execution_count": 26,
   "id": "fe5a0600",
   "metadata": {},
   "outputs": [],
   "source": [
    "operating_funding = funding_rounds[funding_rounds.org_uuid.isin(operating.uuid)]"
   ]
  },
  {
   "cell_type": "code",
   "execution_count": 27,
   "id": "4a653cc8",
   "metadata": {},
   "outputs": [
    {
     "name": "stderr",
     "output_type": "stream",
     "text": [
      "/var/folders/w6/5q18n8_j5pd3kvgw25svnzb80000gp/T/ipykernel_1490/2525953834.py:1: SettingWithCopyWarning: \n",
      "A value is trying to be set on a copy of a slice from a DataFrame.\n",
      "Try using .loc[row_indexer,col_indexer] = value instead\n",
      "\n",
      "See the caveats in the documentation: https://pandas.pydata.org/pandas-docs/stable/user_guide/indexing.html#returning-a-view-versus-a-copy\n",
      "  operating_funding['announced_on'] = pd.to_datetime(operating_funding['announced_on'])\n"
     ]
    }
   ],
   "source": [
    "operating_funding['announced_on'] = pd.to_datetime(operating_funding['announced_on'])"
   ]
  },
  {
   "cell_type": "code",
   "execution_count": 28,
   "id": "a26a1167",
   "metadata": {},
   "outputs": [
    {
     "data": {
      "text/plain": [
       "2019-01-01    2868\n",
       "2018-01-01    1847\n",
       "2020-01-01    1814\n",
       "2016-01-01    1719\n",
       "2017-01-01    1700\n",
       "2015-01-01    1469\n",
       "2021-01-01    1402\n",
       "2014-01-01    1300\n",
       "2018-06-01     947\n",
       "2017-06-01     934\n",
       "Name: announced_on, dtype: int64"
      ]
     },
     "execution_count": 28,
     "metadata": {},
     "output_type": "execute_result"
    }
   ],
   "source": [
    "operating_funding['announced_on'].value_counts()[:10]"
   ]
  },
  {
   "cell_type": "code",
   "execution_count": 29,
   "id": "0c3c1d58",
   "metadata": {},
   "outputs": [
    {
     "data": {
      "text/plain": [
       "Text(0.5, 1.0, 'number of announced funding by year')"
      ]
     },
     "execution_count": 29,
     "metadata": {},
     "output_type": "execute_result"
    },
    {
     "data": {
      "image/png": "[encoded data removed]",
      "text/plain": [
       "<Figure size 432x288 with 1 Axes>"
      ]
     },
     "metadata": {
      "needs_background": "light"
     },
     "output_type": "display_data"
    }
   ],
   "source": [
    "operating_funding['announced_on'].dt.year.value_counts().sort_index()[30:].plot()\n",
    "plt.xlabel('year')\n",
    "plt.ylabel('count')\n",
    "plt.title('number of announced funding by year')"
   ]
  },
  {
   "cell_type": "code",
   "execution_count": 30,
   "id": "d9f75136",
   "metadata": {},
   "outputs": [],
   "source": [
    "A_B_series = operating_funding[operating_funding['investment_type'].isin(['series_a', 'series_b'])]"
   ]
  },
  {
   "cell_type": "code",
   "execution_count": 31,
   "id": "6ebb1837",
   "metadata": {},
   "outputs": [
    {
     "data": {
      "text/plain": [
       "(53505, 24)"
      ]
     },
     "execution_count": 31,
     "metadata": {},
     "output_type": "execute_result"
    }
   ],
   "source": [
    "A_B_series.shape"
   ]
  },
  {
   "cell_type": "code",
   "execution_count": 32,
   "id": "46b242d1",
   "metadata": {},
   "outputs": [
    {
     "data": {
      "text/plain": [
       "35322"
      ]
     },
     "execution_count": 32,
     "metadata": {},
     "output_type": "execute_result"
    }
   ],
   "source": [
    "A_B_series['org_uuid'].nunique()"
   ]
  },
  {
   "cell_type": "code",
   "execution_count": 403,
   "id": "0c8dff36",
   "metadata": {},
   "outputs": [
    {
     "data": {
      "text/plain": [
       "False    44433\n",
       "True      9072\n",
       "Name: raised_amount_usd, dtype: int64"
      ]
     },
     "execution_count": 403,
     "metadata": {},
     "output_type": "execute_result"
    }
   ],
   "source": [
    "A_B_series['raised_amount_usd'].isnull().value_counts()\n"
   ]
  },
  {
   "cell_type": "markdown",
   "id": "a036a314",
   "metadata": {},
   "source": [
    "Теперь возьмем из организаций компании, которые получили интересующие нас раунды."
   ]
  },
  {
   "cell_type": "code",
   "execution_count": 33,
   "id": "27563772",
   "metadata": {},
   "outputs": [],
   "source": [
    "A_B_companies = operating[operating.uuid.isin(A_B_series.org_uuid)]"
   ]
  },
  {
   "cell_type": "markdown",
   "id": "9340feb6",
   "metadata": {},
   "source": [
    "### Единички\n",
    "теперь соберем в единички все что мы обработали ранее, это:\n",
    "* Компании которые вышли на IPO или ACQ (organizations.status == ipo|acquired)\n",
    "* Для тех, у кого статус приобретения равен operating - берем те, у которых round a или b\n",
    "\n",
    "И затем отрежем до тех компаний, которые были образованы не ранее 2005 года."
   ]
  },
  {
   "cell_type": "markdown",
   "id": "269b5ace",
   "metadata": {},
   "source": [
    "Большую часть нашего датасета составляют компании, которые вышли на IPO или ACQ. Что вообще говоря странно, но пока не знаю как правильно это поправить."
   ]
  },
  {
   "cell_type": "code",
   "execution_count": 49,
   "id": "27545338",
   "metadata": {},
   "outputs": [],
   "source": [
    "ones_companies = pd.concat([A_B_companies,acq_or_ipo])"
   ]
  },
  {
   "cell_type": "code",
   "execution_count": 50,
   "id": "b8615288",
   "metadata": {},
   "outputs": [
    {
     "data": {
      "text/plain": [
       "(164194, 41)"
      ]
     },
     "execution_count": 50,
     "metadata": {},
     "output_type": "execute_result"
    }
   ],
   "source": [
    "ones_companies.shape"
   ]
  },
  {
   "cell_type": "code",
   "execution_count": 51,
   "id": "8e065a59",
   "metadata": {},
   "outputs": [
    {
     "data": {
      "text/plain": [
       "acquired     91648\n",
       "ipo          37224\n",
       "operating    35322\n",
       "Name: status, dtype: int64"
      ]
     },
     "execution_count": 51,
     "metadata": {},
     "output_type": "execute_result"
    }
   ],
   "source": [
    "ones_companies['status'].value_counts()"
   ]
  },
  {
   "cell_type": "code",
   "execution_count": 52,
   "id": "23691393",
   "metadata": {},
   "outputs": [],
   "source": [
    "ones_companies = ones_companies[ones_companies.founded_on>'2005-01-01']"
   ]
  },
  {
   "cell_type": "markdown",
   "id": "cd0c8c58",
   "metadata": {},
   "source": [
    "После отрезания по времени у нас остается вдвое меньше компаний."
   ]
  },
  {
   "cell_type": "code",
   "execution_count": 43,
   "id": "52220a6d",
   "metadata": {},
   "outputs": [
    {
     "data": {
      "text/plain": [
       "(72980, 41)"
      ]
     },
     "execution_count": 43,
     "metadata": {},
     "output_type": "execute_result"
    }
   ],
   "source": [
    "ones_companies.shape"
   ]
  },
  {
   "cell_type": "markdown",
   "id": "4627abf5",
   "metadata": {},
   "source": [
    "Зато немного сместился баланс в пользу operating компаний, что тоже вполне логично. Чем ближе мы приближаемся по временной шкале к текущему моменту, тем больше у нас молодых компаний, которые находятся только в стадии инвестирования."
   ]
  },
  {
   "cell_type": "code",
   "execution_count": 54,
   "id": "1506c1f7",
   "metadata": {},
   "outputs": [
    {
     "data": {
      "text/plain": [
       "acquired     32233\n",
       "operating    31366\n",
       "ipo           9381\n",
       "Name: status, dtype: int64"
      ]
     },
     "execution_count": 54,
     "metadata": {},
     "output_type": "execute_result"
    }
   ],
   "source": [
    "ones_companies['status'].value_counts()"
   ]
  },
  {
   "cell_type": "markdown",
   "id": "6e39374f",
   "metadata": {},
   "source": [
    "В данных по org есть поле roles. Смысл понятено из уникальных значений. "
   ]
  },
  {
   "cell_type": "code",
   "execution_count": 58,
   "id": "1ac525ad",
   "metadata": {},
   "outputs": [
    {
     "data": {
      "text/plain": [
       "array(['company', 'investor,company', 'investor', 'company,investor',\n",
       "       'investor,company,school', 'investor,school', 'school',\n",
       "       'company,school', 'school,company', 'school,investor', nan,\n",
       "       'school,company,investor', 'company,investor,school'], dtype=object)"
      ]
     },
     "execution_count": 58,
     "metadata": {},
     "output_type": "execute_result"
    }
   ],
   "source": [
    "organizations['roles'].unique()"
   ]
  },
  {
   "cell_type": "markdown",
   "id": "a24e0d38",
   "metadata": {},
   "source": [
    "Если посмотреть распределение среди наших единичек, то получается следующая картина. Оставим только те, у которых роль - company. На всякий случай. Много информации не потеряем."
   ]
  },
  {
   "cell_type": "code",
   "execution_count": 59,
   "id": "38f6fedd",
   "metadata": {},
   "outputs": [
    {
     "data": {
      "text/plain": [
       "company                    69877\n",
       "investor,company            2343\n",
       "company,investor             261\n",
       "investor                     175\n",
       "school                        20\n",
       "investor,company,school       17\n",
       "company,school                11\n",
       "investor,school                1\n",
       "school,company,investor        1\n",
       "school,company                 1\n",
       "Name: roles, dtype: int64"
      ]
     },
     "execution_count": 59,
     "metadata": {},
     "output_type": "execute_result"
    }
   ],
   "source": [
    "ones_companies['roles'].value_counts()"
   ]
  },
  {
   "cell_type": "code",
   "execution_count": 60,
   "id": "444161f7",
   "metadata": {},
   "outputs": [],
   "source": [
    "ones_companies = ones_companies[ones_companies['roles']=='company']"
   ]
  },
  {
   "cell_type": "markdown",
   "id": "de47daec",
   "metadata": {},
   "source": [
    "Ну с заполненной историей по количеству раундов финансирования и привлеченному капиталу конечно все грустно. Примерно 30% пропущенных значений остается."
   ]
  },
  {
   "cell_type": "code",
   "execution_count": 61,
   "id": "ebc1fd06",
   "metadata": {},
   "outputs": [
    {
     "data": {
      "text/plain": [
       "False    45544\n",
       "True     24333\n",
       "Name: num_funding_rounds, dtype: int64"
      ]
     },
     "execution_count": 61,
     "metadata": {},
     "output_type": "execute_result"
    }
   ],
   "source": [
    "ones_companies.num_funding_rounds.isnull().value_counts()"
   ]
  },
  {
   "cell_type": "code",
   "execution_count": 62,
   "id": "a1a7928f",
   "metadata": {},
   "outputs": [
    {
     "data": {
      "text/plain": [
       "False    45543\n",
       "True     24334\n",
       "Name: total_funding_usd, dtype: int64"
      ]
     },
     "execution_count": 62,
     "metadata": {},
     "output_type": "execute_result"
    }
   ],
   "source": [
    "ones_companies.total_funding_usd.isnull().value_counts()"
   ]
  },
  {
   "cell_type": "markdown",
   "id": "93178af0",
   "metadata": {},
   "source": [
    "### Нолики.\n",
    "\n",
    "Теперь более сложная часть, будем готовить нолики. Для начала отфильтруем организации с 2005 года и уберем уже готовые единички."
   ]
  },
  {
   "cell_type": "code",
   "execution_count": 65,
   "id": "ccbf1c0e",
   "metadata": {},
   "outputs": [],
   "source": [
    "zero_companies = organizations[organizations.founded_on>'2005-01-01']"
   ]
  },
  {
   "cell_type": "code",
   "execution_count": 68,
   "id": "aaf57551",
   "metadata": {},
   "outputs": [],
   "source": [
    "zero_companies = zero_companies[~zero_companies.uuid.isin(ones_companies.uuid)]"
   ]
  },
  {
   "cell_type": "code",
   "execution_count": 74,
   "id": "e536178f",
   "metadata": {},
   "outputs": [
    {
     "data": {
      "text/plain": [
       "operating    714453\n",
       "closed        84424\n",
       "ipo             956\n",
       "acquired        934\n",
       "Name: status, dtype: int64"
      ]
     },
     "execution_count": 74,
     "metadata": {},
     "output_type": "execute_result"
    }
   ],
   "source": [
    "zero_companies['status'].value_counts()"
   ]
  },
  {
   "cell_type": "markdown",
   "id": "bf8cbd79",
   "metadata": {},
   "source": [
    "По организациями, у которых статус  closed большинство пропущенных значений по дате закрытия. Это и логично, такую информацию трудно достать. С другой стороны, интересно, как они определяет то, что компания закрылась.\n",
    "\n",
    "Пока что непонятно, как это правильно верифицировать, так что просто давайте добавим все компании со статусом closed в нолики."
   ]
  },
  {
   "cell_type": "code",
   "execution_count": 75,
   "id": "58f0e3dd",
   "metadata": {},
   "outputs": [],
   "source": [
    "closed = zero_companies[zero_companies.status=='closed']"
   ]
  },
  {
   "cell_type": "code",
   "execution_count": 76,
   "id": "ce047d4c",
   "metadata": {},
   "outputs": [
    {
     "data": {
      "text/plain": [
       "True     69020\n",
       "False    15404\n",
       "Name: closed_on, dtype: int64"
      ]
     },
     "execution_count": 76,
     "metadata": {},
     "output_type": "execute_result"
    }
   ],
   "source": [
    "closed['closed_on'].isnull().value_counts()"
   ]
  },
  {
   "cell_type": "code",
   "execution_count": 79,
   "id": "9cf79db6",
   "metadata": {},
   "outputs": [],
   "source": [
    "closed = closed[closed['roles']=='company']"
   ]
  },
  {
   "cell_type": "markdown",
   "id": "4e17a96f",
   "metadata": {},
   "source": [
    "В статье делали так, что ВСЕ ЧТО НЕ ЕДИНИЧКИ (IPO/ACQ/ROUND A/B) считают за нолики. Так у них получалось 87 процентов ноликов.\n",
    "\n",
    "\n",
    "Но я считаю что это совсем неверный подход. Потому что в итоге в нолики идут очень много компаний со статусом operating, и статус фандинга у них может быть супер разный. \n",
    "\n",
    "То есть грубо говоря, у них в нолики попадают и seed и post_ipo_equity. Поэтому бейзлайн модель я бы все таки строил на статусе closed.\n",
    "\n",
    "Следующую итерация разработки модели уже строил бы совершенно с другого подхода - надо смотреть компании на временной шкале, и определять, по каким из них давно нет информации - скорее всего это будут мертвые компании.\n",
    "\n",
    "В общем текущий бейзлайн строится на \"чистых лейблах\"."
   ]
  },
  {
   "cell_type": "code",
   "execution_count": 117,
   "id": "d27071db",
   "metadata": {},
   "outputs": [
    {
     "data": {
      "text/plain": [
       "(81610, 41)"
      ]
     },
     "execution_count": 117,
     "metadata": {},
     "output_type": "execute_result"
    }
   ],
   "source": [
    "closed.shape"
   ]
  },
  {
   "cell_type": "markdown",
   "id": "e8564a9f",
   "metadata": {},
   "source": [
    "# Features"
   ]
  },
  {
   "cell_type": "markdown",
   "id": "ebc38684",
   "metadata": {},
   "source": [
    "Давайте построим простую модель."
   ]
  },
  {
   "cell_type": "code",
   "execution_count": 237,
   "id": "a8f9d10c",
   "metadata": {},
   "outputs": [
    {
     "name": "stderr",
     "output_type": "stream",
     "text": [
      "/var/folders/w6/5q18n8_j5pd3kvgw25svnzb80000gp/T/ipykernel_1490/644280198.py:1: SettingWithCopyWarning: \n",
      "A value is trying to be set on a copy of a slice from a DataFrame.\n",
      "Try using .loc[row_indexer,col_indexer] = value instead\n",
      "\n",
      "See the caveats in the documentation: https://pandas.pydata.org/pandas-docs/stable/user_guide/indexing.html#returning-a-view-versus-a-copy\n",
      "  closed['label'] = 0\n"
     ]
    }
   ],
   "source": [
    "closed['label'] = 0\n",
    "ones_companies['label'] = 1"
   ]
  },
  {
   "cell_type": "code",
   "execution_count": 238,
   "id": "bfb6631b",
   "metadata": {},
   "outputs": [],
   "source": [
    "all_data = pd.concat([closed,ones_companies])"
   ]
  },
  {
   "cell_type": "markdown",
   "id": "148cc7aa",
   "metadata": {},
   "source": [
    "* Я не добавляю в таблицу фичу RANK, потому что она заглядывает в будущее. Ее будем использовать в следующих итерациях моделей. Это изменяющаяся по времени фича."
   ]
  },
  {
   "cell_type": "code",
   "execution_count": 239,
   "id": "da5c8152",
   "metadata": {},
   "outputs": [
    {
     "data": {
      "text/html": [
       "<div>\n",
       "<style scoped>\n",
       "    .dataframe tbody tr th:only-of-type {\n",
       "        vertical-align: middle;\n",
       "    }\n",
       "\n",
       "    .dataframe tbody tr th {\n",
       "        vertical-align: top;\n",
       "    }\n",
       "\n",
       "    .dataframe thead th {\n",
       "        text-align: right;\n",
       "    }\n",
       "</style>\n",
       "<table border=\"1\" class=\"dataframe\">\n",
       "  <thead>\n",
       "    <tr style=\"text-align: right;\">\n",
       "      <th></th>\n",
       "      <th>uuid</th>\n",
       "      <th>name</th>\n",
       "      <th>type</th>\n",
       "      <th>permalink</th>\n",
       "      <th>cb_url</th>\n",
       "      <th>rank</th>\n",
       "      <th>created_at</th>\n",
       "      <th>updated_at</th>\n",
       "      <th>legal_name</th>\n",
       "      <th>roles</th>\n",
       "      <th>domain</th>\n",
       "      <th>homepage_url</th>\n",
       "      <th>country_code</th>\n",
       "      <th>state_code</th>\n",
       "      <th>region</th>\n",
       "      <th>city</th>\n",
       "      <th>address</th>\n",
       "      <th>postal_code</th>\n",
       "      <th>status</th>\n",
       "      <th>short_description</th>\n",
       "      <th>category_list</th>\n",
       "      <th>category_groups_list</th>\n",
       "      <th>num_funding_rounds</th>\n",
       "      <th>total_funding_usd</th>\n",
       "      <th>total_funding</th>\n",
       "      <th>total_funding_currency_code</th>\n",
       "      <th>founded_on</th>\n",
       "      <th>last_funding_on</th>\n",
       "      <th>closed_on</th>\n",
       "      <th>employee_count</th>\n",
       "      <th>email</th>\n",
       "      <th>phone</th>\n",
       "      <th>facebook_url</th>\n",
       "      <th>linkedin_url</th>\n",
       "      <th>twitter_url</th>\n",
       "      <th>logo_url</th>\n",
       "      <th>alias1</th>\n",
       "      <th>alias2</th>\n",
       "      <th>alias3</th>\n",
       "      <th>primary_role</th>\n",
       "      <th>num_exits</th>\n",
       "      <th>label</th>\n",
       "    </tr>\n",
       "  </thead>\n",
       "  <tbody>\n",
       "    <tr>\n",
       "      <th>8</th>\n",
       "      <td>60485007-8856-bbac-aa1b-c535c41f5f47</td>\n",
       "      <td>Omnidrive</td>\n",
       "      <td>organization</td>\n",
       "      <td>omnidrive</td>\n",
       "      <td>https://www.crunchbase.com/organization/omnidrive</td>\n",
       "      <td>1232919.0</td>\n",
       "      <td>2007-05-27 10:25:32</td>\n",
       "      <td>2019-10-03 06:30:53</td>\n",
       "      <td>NaN</td>\n",
       "      <td>company</td>\n",
       "      <td>omnidrive.com</td>\n",
       "      <td>http://www.omnidrive.com</td>\n",
       "      <td>USA</td>\n",
       "      <td>CA</td>\n",
       "      <td>California</td>\n",
       "      <td>Palo Alto</td>\n",
       "      <td>Suite 200 654 High Street</td>\n",
       "      <td>94301</td>\n",
       "      <td>closed</td>\n",
       "      <td>Omnidrive provides online storage facilities t...</td>\n",
       "      <td>E-Commerce,File Sharing,Internet,Social Media,...</td>\n",
       "      <td>Commerce and Shopping,Internet Services,Media ...</td>\n",
       "      <td>1.0</td>\n",
       "      <td>800000.0</td>\n",
       "      <td>800000.0</td>\n",
       "      <td>USD</td>\n",
       "      <td>2005-11-01</td>\n",
       "      <td>2006-12-01</td>\n",
       "      <td>2008-09-15</td>\n",
       "      <td>unknown</td>\n",
       "      <td>info@omnidrive.com</td>\n",
       "      <td>NaN</td>\n",
       "      <td>http://www.facebook.com/Nomadesk</td>\n",
       "      <td>NaN</td>\n",
       "      <td>http://twitter.com/Nomadesk</td>\n",
       "      <td>https://res.cloudinary.com/crunchbase-producti...</td>\n",
       "      <td>NaN</td>\n",
       "      <td>NaN</td>\n",
       "      <td>NaN</td>\n",
       "      <td>company</td>\n",
       "      <td>NaN</td>\n",
       "      <td>0</td>\n",
       "    </tr>\n",
       "    <tr>\n",
       "      <th>24</th>\n",
       "      <td>56e82b22-7466-b00b-9035-57ad7b584f65</td>\n",
       "      <td>Helio Pur Technologies</td>\n",
       "      <td>organization</td>\n",
       "      <td>helio</td>\n",
       "      <td>https://www.crunchbase.com/organization/helio</td>\n",
       "      <td>208652.0</td>\n",
       "      <td>2007-06-06 04:39:53</td>\n",
       "      <td>2022-06-02 08:24:44</td>\n",
       "      <td>NaN</td>\n",
       "      <td>company</td>\n",
       "      <td>helio.com</td>\n",
       "      <td>http://www.helio.com</td>\n",
       "      <td>USA</td>\n",
       "      <td>CA</td>\n",
       "      <td>California</td>\n",
       "      <td>Los Angeles</td>\n",
       "      <td>10960 Wilshire Blvd. Suite 700</td>\n",
       "      <td>90024</td>\n",
       "      <td>closed</td>\n",
       "      <td>Helio, a mobile service that targets multimedi...</td>\n",
       "      <td>Internet,Mobile,Telecommunications</td>\n",
       "      <td>Hardware,Internet Services,Mobile</td>\n",
       "      <td>NaN</td>\n",
       "      <td>NaN</td>\n",
       "      <td>NaN</td>\n",
       "      <td>NaN</td>\n",
       "      <td>2005-02-01</td>\n",
       "      <td>NaN</td>\n",
       "      <td>NaN</td>\n",
       "      <td>251-500</td>\n",
       "      <td>NaN</td>\n",
       "      <td>NaN</td>\n",
       "      <td>NaN</td>\n",
       "      <td>https://www.linkedin.com/company/helio/</td>\n",
       "      <td>NaN</td>\n",
       "      <td>https://res.cloudinary.com/crunchbase-producti...</td>\n",
       "      <td>NaN</td>\n",
       "      <td>NaN</td>\n",
       "      <td>NaN</td>\n",
       "      <td>company</td>\n",
       "      <td>NaN</td>\n",
       "      <td>0</td>\n",
       "    </tr>\n",
       "    <tr>\n",
       "      <th>26</th>\n",
       "      <td>7ac8de1f-61b5-b1e8-d67d-6983e765b0cf</td>\n",
       "      <td>Wis.dm</td>\n",
       "      <td>organization</td>\n",
       "      <td>wis-dm</td>\n",
       "      <td>https://www.crunchbase.com/organization/wis-dm</td>\n",
       "      <td>1000099.0</td>\n",
       "      <td>2007-06-07 14:07:52</td>\n",
       "      <td>2018-02-13 00:01:42</td>\n",
       "      <td>NaN</td>\n",
       "      <td>company</td>\n",
       "      <td>wis.dm</td>\n",
       "      <td>http://wis.dm</td>\n",
       "      <td>USA</td>\n",
       "      <td>IL</td>\n",
       "      <td>Illinois</td>\n",
       "      <td>Chicago</td>\n",
       "      <td>NaN</td>\n",
       "      <td>NaN</td>\n",
       "      <td>closed</td>\n",
       "      <td>Wis.dm is a social network based around simple...</td>\n",
       "      <td>Advertising,Big Data,Online Portals,Social Med...</td>\n",
       "      <td>Advertising,Data and Analytics,Internet Servic...</td>\n",
       "      <td>1.0</td>\n",
       "      <td>5000000.0</td>\n",
       "      <td>5000000.0</td>\n",
       "      <td>USD</td>\n",
       "      <td>2006-06-01</td>\n",
       "      <td>2007-08-01</td>\n",
       "      <td>2012-01-01</td>\n",
       "      <td>unknown</td>\n",
       "      <td>NaN</td>\n",
       "      <td>NaN</td>\n",
       "      <td>NaN</td>\n",
       "      <td>NaN</td>\n",
       "      <td>http://twitter.com/wis_dm</td>\n",
       "      <td>https://res.cloudinary.com/crunchbase-producti...</td>\n",
       "      <td>NaN</td>\n",
       "      <td>NaN</td>\n",
       "      <td>NaN</td>\n",
       "      <td>company</td>\n",
       "      <td>NaN</td>\n",
       "      <td>0</td>\n",
       "    </tr>\n",
       "    <tr>\n",
       "      <th>30</th>\n",
       "      <td>90e234e5-c045-f851-e6aa-291af5d270fe</td>\n",
       "      <td>Joost</td>\n",
       "      <td>organization</td>\n",
       "      <td>joost</td>\n",
       "      <td>https://www.crunchbase.com/organization/joost</td>\n",
       "      <td>196994.0</td>\n",
       "      <td>2007-06-09 14:05:30</td>\n",
       "      <td>2022-04-18 08:18:11</td>\n",
       "      <td>NaN</td>\n",
       "      <td>company</td>\n",
       "      <td>joost.com</td>\n",
       "      <td>http://joost.com</td>\n",
       "      <td>USA</td>\n",
       "      <td>NY</td>\n",
       "      <td>New York</td>\n",
       "      <td>New York</td>\n",
       "      <td>100 5th Ave Fl 6</td>\n",
       "      <td>10011-6903</td>\n",
       "      <td>closed</td>\n",
       "      <td>Joost is an internet TV service that uses peer...</td>\n",
       "      <td>Internet,TV,Video</td>\n",
       "      <td>Internet Services,Media and Entertainment,Video</td>\n",
       "      <td>1.0</td>\n",
       "      <td>45000000.0</td>\n",
       "      <td>45000000.0</td>\n",
       "      <td>USD</td>\n",
       "      <td>2006-10-01</td>\n",
       "      <td>2007-05-09</td>\n",
       "      <td>NaN</td>\n",
       "      <td>501-1000</td>\n",
       "      <td>newyork@joost.com</td>\n",
       "      <td>NaN</td>\n",
       "      <td>NaN</td>\n",
       "      <td>NaN</td>\n",
       "      <td>NaN</td>\n",
       "      <td>https://res.cloudinary.com/crunchbase-producti...</td>\n",
       "      <td>NaN</td>\n",
       "      <td>NaN</td>\n",
       "      <td>NaN</td>\n",
       "      <td>company</td>\n",
       "      <td>NaN</td>\n",
       "      <td>0</td>\n",
       "    </tr>\n",
       "    <tr>\n",
       "      <th>37</th>\n",
       "      <td>6ec85818-e24d-4789-660e-9cda11bb86fa</td>\n",
       "      <td>Babelgum</td>\n",
       "      <td>organization</td>\n",
       "      <td>babelgum</td>\n",
       "      <td>https://www.crunchbase.com/organization/babelgum</td>\n",
       "      <td>696577.0</td>\n",
       "      <td>2007-06-09 15:15:21</td>\n",
       "      <td>2019-06-24 22:01:07</td>\n",
       "      <td>NaN</td>\n",
       "      <td>company</td>\n",
       "      <td>babelgum.com</td>\n",
       "      <td>http://babelgum.com</td>\n",
       "      <td>IRL</td>\n",
       "      <td>NaN</td>\n",
       "      <td>Dublin</td>\n",
       "      <td>Dublin</td>\n",
       "      <td>Block J Eastpoint Business Park Clontarf</td>\n",
       "      <td>NaN</td>\n",
       "      <td>closed</td>\n",
       "      <td>Babelgum is a free integrated web and mobile v...</td>\n",
       "      <td>Content,Mobile,Video,Web Development</td>\n",
       "      <td>Media and Entertainment,Mobile,Software,Video</td>\n",
       "      <td>1.0</td>\n",
       "      <td>13200000.0</td>\n",
       "      <td>13200000.0</td>\n",
       "      <td>USD</td>\n",
       "      <td>2005-06-01</td>\n",
       "      <td>2007-03-05</td>\n",
       "      <td>2013-01-09</td>\n",
       "      <td>101-250</td>\n",
       "      <td>info@babelgum.com</td>\n",
       "      <td>NaN</td>\n",
       "      <td>NaN</td>\n",
       "      <td>NaN</td>\n",
       "      <td>http://twitter.com/Babelgum</td>\n",
       "      <td>https://res.cloudinary.com/crunchbase-producti...</td>\n",
       "      <td>NaN</td>\n",
       "      <td>NaN</td>\n",
       "      <td>NaN</td>\n",
       "      <td>company</td>\n",
       "      <td>NaN</td>\n",
       "      <td>0</td>\n",
       "    </tr>\n",
       "  </tbody>\n",
       "</table>\n",
       "</div>"
      ],
      "text/plain": [
       "                                    uuid                    name  \\\n",
       "8   60485007-8856-bbac-aa1b-c535c41f5f47               Omnidrive   \n",
       "24  56e82b22-7466-b00b-9035-57ad7b584f65  Helio Pur Technologies   \n",
       "26  7ac8de1f-61b5-b1e8-d67d-6983e765b0cf                  Wis.dm   \n",
       "30  90e234e5-c045-f851-e6aa-291af5d270fe                   Joost   \n",
       "37  6ec85818-e24d-4789-660e-9cda11bb86fa                Babelgum   \n",
       "\n",
       "            type  permalink  \\\n",
       "8   organization  omnidrive   \n",
       "24  organization      helio   \n",
       "26  organization     wis-dm   \n",
       "30  organization      joost   \n",
       "37  organization   babelgum   \n",
       "\n",
       "                                               cb_url       rank  \\\n",
       "8   https://www.crunchbase.com/organization/omnidrive  1232919.0   \n",
       "24      https://www.crunchbase.com/organization/helio   208652.0   \n",
       "26     https://www.crunchbase.com/organization/wis-dm  1000099.0   \n",
       "30      https://www.crunchbase.com/organization/joost   196994.0   \n",
       "37   https://www.crunchbase.com/organization/babelgum   696577.0   \n",
       "\n",
       "             created_at           updated_at legal_name    roles  \\\n",
       "8   2007-05-27 10:25:32  2019-10-03 06:30:53        NaN  company   \n",
       "24  2007-06-06 04:39:53  2022-06-02 08:24:44        NaN  company   \n",
       "26  2007-06-07 14:07:52  2018-02-13 00:01:42        NaN  company   \n",
       "30  2007-06-09 14:05:30  2022-04-18 08:18:11        NaN  company   \n",
       "37  2007-06-09 15:15:21  2019-06-24 22:01:07        NaN  company   \n",
       "\n",
       "           domain              homepage_url country_code state_code  \\\n",
       "8   omnidrive.com  http://www.omnidrive.com          USA         CA   \n",
       "24      helio.com      http://www.helio.com          USA         CA   \n",
       "26         wis.dm             http://wis.dm          USA         IL   \n",
       "30      joost.com          http://joost.com          USA         NY   \n",
       "37   babelgum.com       http://babelgum.com          IRL        NaN   \n",
       "\n",
       "        region         city                                   address  \\\n",
       "8   California    Palo Alto                 Suite 200 654 High Street   \n",
       "24  California  Los Angeles            10960 Wilshire Blvd. Suite 700   \n",
       "26    Illinois      Chicago                                       NaN   \n",
       "30    New York     New York                          100 5th Ave Fl 6   \n",
       "37      Dublin       Dublin  Block J Eastpoint Business Park Clontarf   \n",
       "\n",
       "   postal_code  status                                  short_description  \\\n",
       "8        94301  closed  Omnidrive provides online storage facilities t...   \n",
       "24       90024  closed  Helio, a mobile service that targets multimedi...   \n",
       "26         NaN  closed  Wis.dm is a social network based around simple...   \n",
       "30  10011-6903  closed  Joost is an internet TV service that uses peer...   \n",
       "37         NaN  closed  Babelgum is a free integrated web and mobile v...   \n",
       "\n",
       "                                        category_list  \\\n",
       "8   E-Commerce,File Sharing,Internet,Social Media,...   \n",
       "24                 Internet,Mobile,Telecommunications   \n",
       "26  Advertising,Big Data,Online Portals,Social Med...   \n",
       "30                                  Internet,TV,Video   \n",
       "37               Content,Mobile,Video,Web Development   \n",
       "\n",
       "                                 category_groups_list  num_funding_rounds  \\\n",
       "8   Commerce and Shopping,Internet Services,Media ...                 1.0   \n",
       "24                  Hardware,Internet Services,Mobile                 NaN   \n",
       "26  Advertising,Data and Analytics,Internet Servic...                 1.0   \n",
       "30    Internet Services,Media and Entertainment,Video                 1.0   \n",
       "37      Media and Entertainment,Mobile,Software,Video                 1.0   \n",
       "\n",
       "    total_funding_usd  total_funding total_funding_currency_code founded_on  \\\n",
       "8            800000.0       800000.0                         USD 2005-11-01   \n",
       "24                NaN            NaN                         NaN 2005-02-01   \n",
       "26          5000000.0      5000000.0                         USD 2006-06-01   \n",
       "30         45000000.0     45000000.0                         USD 2006-10-01   \n",
       "37         13200000.0     13200000.0                         USD 2005-06-01   \n",
       "\n",
       "   last_funding_on   closed_on employee_count               email phone  \\\n",
       "8       2006-12-01  2008-09-15        unknown  info@omnidrive.com   NaN   \n",
       "24             NaN         NaN        251-500                 NaN   NaN   \n",
       "26      2007-08-01  2012-01-01        unknown                 NaN   NaN   \n",
       "30      2007-05-09         NaN       501-1000   newyork@joost.com   NaN   \n",
       "37      2007-03-05  2013-01-09        101-250   info@babelgum.com   NaN   \n",
       "\n",
       "                        facebook_url                             linkedin_url  \\\n",
       "8   http://www.facebook.com/Nomadesk                                      NaN   \n",
       "24                               NaN  https://www.linkedin.com/company/helio/   \n",
       "26                               NaN                                      NaN   \n",
       "30                               NaN                                      NaN   \n",
       "37                               NaN                                      NaN   \n",
       "\n",
       "                    twitter_url  \\\n",
       "8   http://twitter.com/Nomadesk   \n",
       "24                          NaN   \n",
       "26    http://twitter.com/wis_dm   \n",
       "30                          NaN   \n",
       "37  http://twitter.com/Babelgum   \n",
       "\n",
       "                                             logo_url alias1 alias2 alias3  \\\n",
       "8   https://res.cloudinary.com/crunchbase-producti...    NaN    NaN    NaN   \n",
       "24  https://res.cloudinary.com/crunchbase-producti...    NaN    NaN    NaN   \n",
       "26  https://res.cloudinary.com/crunchbase-producti...    NaN    NaN    NaN   \n",
       "30  https://res.cloudinary.com/crunchbase-producti...    NaN    NaN    NaN   \n",
       "37  https://res.cloudinary.com/crunchbase-producti...    NaN    NaN    NaN   \n",
       "\n",
       "   primary_role  num_exits  label  \n",
       "8       company        NaN      0  \n",
       "24      company        NaN      0  \n",
       "26      company        NaN      0  \n",
       "30      company        NaN      0  \n",
       "37      company        NaN      0  "
      ]
     },
     "execution_count": 239,
     "metadata": {},
     "output_type": "execute_result"
    }
   ],
   "source": [
    "all_data.head()"
   ]
  },
  {
   "cell_type": "code",
   "execution_count": 240,
   "id": "be9e2391",
   "metadata": {},
   "outputs": [],
   "source": [
    "all_data['is_legal_name'] = all_data['legal_name'].isnull()# заполнено ли поле legal_name\n",
    "all_data['is_homepage_url'] = all_data['homepage_url'].isnull()# заполнено ли поле homepage_url"
   ]
  },
  {
   "cell_type": "code",
   "execution_count": 241,
   "id": "99f205aa",
   "metadata": {},
   "outputs": [],
   "source": [
    "from sklearn.preprocessing import LabelEncoder"
   ]
  },
  {
   "cell_type": "code",
   "execution_count": 242,
   "id": "2c70a8b0",
   "metadata": {},
   "outputs": [],
   "source": [
    "country_le = LabelEncoder()\n",
    "all_data['country_code'] = country_le.fit_transform(all_data['country_code'])"
   ]
  },
  {
   "cell_type": "markdown",
   "id": "c16cf237",
   "metadata": {},
   "source": [
    "### category_list\n",
    "\n",
    "Это один из самых важных признаков в датасете. Представлен в виде строки, где через запятую перечислены области, в которых оперирует компания."
   ]
  },
  {
   "cell_type": "code",
   "execution_count": 243,
   "id": "99395cac",
   "metadata": {},
   "outputs": [],
   "source": [
    "category_list = all_data['category_list'].dropna()"
   ]
  },
  {
   "cell_type": "code",
   "execution_count": 244,
   "id": "8f52594d",
   "metadata": {},
   "outputs": [],
   "source": [
    "category_list = category_list.apply(lambda x: x.split(',')).tolist()"
   ]
  },
  {
   "cell_type": "code",
   "execution_count": 245,
   "id": "aff90358",
   "metadata": {},
   "outputs": [
    {
     "data": {
      "text/plain": [
       "[['E-Commerce',\n",
       "  'File Sharing',\n",
       "  'Internet',\n",
       "  'Social Media',\n",
       "  'Software',\n",
       "  'Web Hosting'],\n",
       " ['Internet', 'Mobile', 'Telecommunications'],\n",
       " ['Advertising',\n",
       "  'Big Data',\n",
       "  'Online Portals',\n",
       "  'Social Media',\n",
       "  'Social Network',\n",
       "  'Sports'],\n",
       " ['Internet', 'TV', 'Video'],\n",
       " ['Content', 'Mobile', 'Video', 'Web Development']]"
      ]
     },
     "execution_count": 245,
     "metadata": {},
     "output_type": "execute_result"
    }
   ],
   "source": [
    "category_list[:5]"
   ]
  },
  {
   "cell_type": "code",
   "execution_count": 246,
   "id": "b2bbbb63",
   "metadata": {},
   "outputs": [],
   "source": [
    "from collections import Counter"
   ]
  },
  {
   "cell_type": "code",
   "execution_count": 247,
   "id": "2239ce2c",
   "metadata": {},
   "outputs": [],
   "source": [
    "cat_counter = Counter(np.concatenate(category_list))"
   ]
  },
  {
   "cell_type": "markdown",
   "id": "5973f56f",
   "metadata": {},
   "source": [
    "Всего получается 738 уникальных категорий.\n",
    "\n",
    "Пока что будем использовать очень простой подход - возьмем первые 20 категорий, добавим 20 колонок, и проставим бинарный флаг - принадлежит ли компания к одной из этих категорий.\n",
    "\n",
    "По хорошему конечно нужно подходить более умно к этому. Либо пропускать через какой то трансформер. Либо вручную отсмотреть все категории, и вручную составить более верхнеуровневую иерархию."
   ]
  },
  {
   "cell_type": "code",
   "execution_count": 248,
   "id": "f1d96651",
   "metadata": {},
   "outputs": [
    {
     "data": {
      "text/plain": [
       "738"
      ]
     },
     "execution_count": 248,
     "metadata": {},
     "output_type": "execute_result"
    }
   ],
   "source": [
    "len(cat_counter)"
   ]
  },
  {
   "cell_type": "code",
   "execution_count": 249,
   "id": "4d6df059",
   "metadata": {
    "scrolled": true
   },
   "outputs": [
    {
     "data": {
      "text/plain": [
       "[('Software', 27133),\n",
       " ('Information Technology', 17924),\n",
       " ('E-Commerce', 16709),\n",
       " ('Internet', 15382),\n",
       " ('Health Care', 13236),\n",
       " ('Mobile', 9696),\n",
       " ('Advertising', 8795),\n",
       " ('Apps', 7351),\n",
       " ('Financial Services', 7175),\n",
       " ('Social Media', 6246),\n",
       " ('Manufacturing', 6241),\n",
       " ('SaaS', 5899),\n",
       " ('Education', 5809),\n",
       " ('Biotechnology', 5782),\n",
       " ('Consulting', 5474),\n",
       " ('Artificial Intelligence', 5268),\n",
       " ('Medical', 4906),\n",
       " ('Analytics', 4891),\n",
       " ('Marketing', 4837),\n",
       " ('Enterprise Software', 4489)]"
      ]
     },
     "execution_count": 249,
     "metadata": {},
     "output_type": "execute_result"
    }
   ],
   "source": [
    "cat_counter.most_common()[:20]"
   ]
  },
  {
   "cell_type": "code",
   "execution_count": 250,
   "id": "d2a7a188",
   "metadata": {},
   "outputs": [],
   "source": [
    "top_cats = [i[0] for i in cat_counter.most_common()[:20]]"
   ]
  },
  {
   "cell_type": "markdown",
   "id": "26cdb333",
   "metadata": {},
   "source": [
    "Плюс таким подходом у нас будут захватываться более мелкие категории, но которые содержат ключевые слова. В общем нужен список ключевых слов. Ниже пример для software"
   ]
  },
  {
   "cell_type": "code",
   "execution_count": 251,
   "id": "e9464aaf",
   "metadata": {},
   "outputs": [
    {
     "data": {
      "text/plain": [
       "['Software',\n",
       " 'Enterprise Software',\n",
       " 'Software Engineering',\n",
       " 'Consumer Software',\n",
       " 'Meeting Software',\n",
       " 'Embedded Software',\n",
       " 'Presentation Software']"
      ]
     },
     "execution_count": 251,
     "metadata": {},
     "output_type": "execute_result"
    }
   ],
   "source": [
    "[i[0] for i in cat_counter.most_common() if 'Software' in i[0]]"
   ]
  },
  {
   "cell_type": "code",
   "execution_count": 252,
   "id": "7ca42dfe",
   "metadata": {
    "scrolled": true
   },
   "outputs": [],
   "source": [
    "for cat in top_cats:\n",
    "    all_data[cat] = all_data['category_list'].str.contains(cat)"
   ]
  },
  {
   "cell_type": "markdown",
   "id": "1ed10c6e",
   "metadata": {},
   "source": [
    "### category_group_list\n",
    "\n",
    "А есть еще category_group_list. Это чуть более другая группировка. Но там меньше уникальных значений - 47. Чтобы совсем не раздувать признаковое пространство - возьмем первое значений, из перечисленных через запятую - будем считать что именно оно больше всего описывает компанию в category_group_list."
   ]
  },
  {
   "cell_type": "code",
   "execution_count": 253,
   "id": "6ef78b22",
   "metadata": {},
   "outputs": [],
   "source": [
    "category_group_list = all_data['category_groups_list'].dropna()"
   ]
  },
  {
   "cell_type": "code",
   "execution_count": 254,
   "id": "48cd4db3",
   "metadata": {},
   "outputs": [],
   "source": [
    "category_group_list = category_group_list.apply(lambda x: x.split(',')).tolist()"
   ]
  },
  {
   "cell_type": "code",
   "execution_count": 255,
   "id": "cfa16d70",
   "metadata": {},
   "outputs": [
    {
     "data": {
      "text/plain": [
       "[['Commerce and Shopping',\n",
       "  'Internet Services',\n",
       "  'Media and Entertainment',\n",
       "  'Software'],\n",
       " ['Hardware', 'Internet Services', 'Mobile'],\n",
       " ['Advertising',\n",
       "  'Data and Analytics',\n",
       "  'Internet Services',\n",
       "  'Media and Entertainment',\n",
       "  'Sales and Marketing',\n",
       "  'Sports'],\n",
       " ['Internet Services', 'Media and Entertainment', 'Video'],\n",
       " ['Media and Entertainment', 'Mobile', 'Software', 'Video']]"
      ]
     },
     "execution_count": 255,
     "metadata": {},
     "output_type": "execute_result"
    }
   ],
   "source": [
    "category_group_list[:5]"
   ]
  },
  {
   "cell_type": "code",
   "execution_count": 256,
   "id": "3a3f9195",
   "metadata": {},
   "outputs": [],
   "source": [
    "from collections import Counter"
   ]
  },
  {
   "cell_type": "code",
   "execution_count": 257,
   "id": "3d6f8ceb",
   "metadata": {},
   "outputs": [],
   "source": [
    "cat_group_counter = Counter(np.concatenate(category_group_list))"
   ]
  },
  {
   "cell_type": "code",
   "execution_count": 258,
   "id": "4d929c25",
   "metadata": {
    "scrolled": true
   },
   "outputs": [
    {
     "data": {
      "text/plain": [
       "Counter({'Commerce and Shopping': 22123,\n",
       "         'Internet Services': 32920,\n",
       "         'Media and Entertainment': 21741,\n",
       "         'Software': 53222,\n",
       "         'Hardware': 15588,\n",
       "         'Mobile': 15909,\n",
       "         'Advertising': 9494,\n",
       "         'Data and Analytics': 15328,\n",
       "         'Sales and Marketing': 17272,\n",
       "         'Sports': 4241,\n",
       "         'Video': 4617,\n",
       "         'Financial Services': 15193,\n",
       "         'Gaming': 3813,\n",
       "         'Payments': 3754,\n",
       "         'Content and Publishing': 6661,\n",
       "         'Music and Audio': 2776,\n",
       "         'Navigation and Mapping': 1783,\n",
       "         'Information Technology': 26264,\n",
       "         'Messaging and Telecommunications': 2379,\n",
       "         'Other': 14887,\n",
       "         'Artificial Intelligence': 6584,\n",
       "         'Professional Services': 12370,\n",
       "         'Travel and Tourism': 4618,\n",
       "         'Events': 2548,\n",
       "         'Transportation': 7623,\n",
       "         'Apps': 11034,\n",
       "         'Privacy and Security': 4202,\n",
       "         'Design': 8217,\n",
       "         'Food and Beverage': 6220,\n",
       "         'Education': 7283,\n",
       "         'Community and Lifestyle': 8487,\n",
       "         'Sustainability': 3659,\n",
       "         'Lending and Investments': 3366,\n",
       "         'Platforms': 3604,\n",
       "         'Science and Engineering': 15718,\n",
       "         'Consumer Electronics': 6471,\n",
       "         'Energy': 4239,\n",
       "         'Natural Resources': 3342,\n",
       "         'Real Estate': 6967,\n",
       "         'Administrative Services': 4549,\n",
       "         'Clothing and Apparel': 3652,\n",
       "         'Consumer Goods': 3716,\n",
       "         'Government and Military': 967,\n",
       "         'Health Care': 17780,\n",
       "         'Manufacturing': 7904,\n",
       "         'Biotechnology': 6351,\n",
       "         'Agriculture and Farming': 1548})"
      ]
     },
     "execution_count": 258,
     "metadata": {},
     "output_type": "execute_result"
    }
   ],
   "source": [
    "cat_group_counter"
   ]
  },
  {
   "cell_type": "code",
   "execution_count": 259,
   "id": "c535c9ad",
   "metadata": {},
   "outputs": [
    {
     "data": {
      "text/plain": [
       "47"
      ]
     },
     "execution_count": 259,
     "metadata": {},
     "output_type": "execute_result"
    }
   ],
   "source": [
    "len(cat_group_counter)"
   ]
  },
  {
   "cell_type": "code",
   "execution_count": 260,
   "id": "450b85d1",
   "metadata": {},
   "outputs": [],
   "source": [
    "all_data['category_groups_list'] = all_data['category_groups_list'].fillna('missed')"
   ]
  },
  {
   "cell_type": "code",
   "execution_count": 261,
   "id": "d0fef56a",
   "metadata": {},
   "outputs": [],
   "source": [
    "all_data['category_groups_list'] = all_data['category_groups_list'].apply(lambda x: x.split(',')[0])"
   ]
  },
  {
   "cell_type": "code",
   "execution_count": 262,
   "id": "a0250c23",
   "metadata": {},
   "outputs": [],
   "source": [
    "cat_group_le = LabelEncoder()\n",
    "all_data['category_groups_list'] = cat_group_le.fit_transform(all_data['category_groups_list'])"
   ]
  },
  {
   "cell_type": "markdown",
   "id": "17d15179",
   "metadata": {},
   "source": [
    "Есть несколько колонок с информацией по инвестициям, но почему то мне кажется что их лучше не включать. Потому что может быть лик.\n",
    "\n",
    "Это колонки ['num_funding_rounds', 'total_funding_usd', 'total_funding_usd']"
   ]
  },
  {
   "cell_type": "markdown",
   "id": "c6e958a7",
   "metadata": {},
   "source": [
    "Есть еще колонка \"founded_on\" - кажется она тоже может добавить лик.\n",
    "МБ потом стоит добавить колонку, например - разница в годах между выпуском из универа основателя и датой основания компании."
   ]
  },
  {
   "cell_type": "markdown",
   "id": "bb21f1fd",
   "metadata": {},
   "source": [
    "#### employee_count\n",
    "\n",
    "Категориальный признак, полезный. Можно просто сделать labelencdoing"
   ]
  },
  {
   "cell_type": "code",
   "execution_count": 263,
   "id": "7116b1cb",
   "metadata": {},
   "outputs": [],
   "source": [
    "employee_le = LabelEncoder()\n",
    "\n",
    "all_data['employee_count'] = employee_le.fit_transform(all_data['employee_count'])"
   ]
  },
  {
   "cell_type": "markdown",
   "id": "9322afb5",
   "metadata": {},
   "source": [
    "бинарный признак указан email или нет"
   ]
  },
  {
   "cell_type": "code",
   "execution_count": 264,
   "id": "c3f671eb",
   "metadata": {},
   "outputs": [],
   "source": [
    "all_data['is_email'] = all_data['email'].isnull()"
   ]
  },
  {
   "cell_type": "markdown",
   "id": "2ce4d630",
   "metadata": {},
   "source": [
    "так же с телефоном"
   ]
  },
  {
   "cell_type": "code",
   "execution_count": 265,
   "id": "78cb4b7b",
   "metadata": {},
   "outputs": [],
   "source": [
    "all_data['is_phone'] = all_data['phone'].isnull()"
   ]
  },
  {
   "cell_type": "markdown",
   "id": "f7fde8ef",
   "metadata": {},
   "source": [
    "с facebook, linkedin и twitter"
   ]
  },
  {
   "cell_type": "code",
   "execution_count": 266,
   "id": "ffa742ef",
   "metadata": {},
   "outputs": [],
   "source": [
    "all_data['is_facebook_url'] = all_data['facebook_url'].isnull()"
   ]
  },
  {
   "cell_type": "code",
   "execution_count": 267,
   "id": "7f7e648f",
   "metadata": {},
   "outputs": [],
   "source": [
    "all_data['is_linkedin_url'] = all_data['linkedin_url'].isnull()"
   ]
  },
  {
   "cell_type": "code",
   "execution_count": 268,
   "id": "c189abb6",
   "metadata": {},
   "outputs": [],
   "source": [
    "all_data['is_twitter_url'] = all_data['twitter_url'].isnull()"
   ]
  },
  {
   "cell_type": "markdown",
   "id": "2ce7d0d1",
   "metadata": {},
   "source": [
    "есть еще 3 колонки alias1,alias2,alias3\n",
    "смысл не очень понимаю, если честно. кажется это просто альтернативные названия"
   ]
  },
  {
   "cell_type": "code",
   "execution_count": 277,
   "id": "c33a82c6",
   "metadata": {},
   "outputs": [],
   "source": [
    "to_drop = ['name','type','permalink','cb_url','rank','created_at','updated_at',\\\n",
    "           'legal_name','roles','address','postal_code','status',\\\n",
    "           \n",
    "           \n",
    "        'num_funding_rounds','total_funding','total_funding_usd','total_funding_currency_code', \\\n",
    "          \n",
    "          \n",
    "          'founded_on','last_funding_on','closed_on',\\\n",
    "          'phone',\\\n",
    "          'primary_role',\n",
    "          'alias1','alias2','alias3',\\\n",
    "           'num_exits',\n",
    "           'logo_url',\\\n",
    "           'short_description',\\\n",
    "           'city','region','state_code',\\\n",
    "           'homepage_url','domain',\\\n",
    "           'category_list',\n",
    "           'facebook_url','linkedin_url','twitter_url',\n",
    "           'email'\n",
    "          ]"
   ]
  },
  {
   "cell_type": "code",
   "execution_count": 282,
   "id": "c39489de",
   "metadata": {
    "scrolled": true
   },
   "outputs": [],
   "source": [
    "all_data = all_data.drop(to_drop,axis=1)"
   ]
  },
  {
   "cell_type": "markdown",
   "id": "f098107e",
   "metadata": {},
   "source": [
    "# PEOPLE \n",
    "\n",
    "постараемся достать информация о фаундерах"
   ]
  },
  {
   "cell_type": "code",
   "execution_count": 345,
   "id": "d5686e09",
   "metadata": {},
   "outputs": [],
   "source": [
    "people = pd.read_csv('../CRUNCHBASE_DATA/bulk_export/people.csv')"
   ]
  },
  {
   "cell_type": "code",
   "execution_count": 346,
   "id": "6fc93c59",
   "metadata": {
    "scrolled": true
   },
   "outputs": [
    {
     "data": {
      "text/html": [
       "<div>\n",
       "<style scoped>\n",
       "    .dataframe tbody tr th:only-of-type {\n",
       "        vertical-align: middle;\n",
       "    }\n",
       "\n",
       "    .dataframe tbody tr th {\n",
       "        vertical-align: top;\n",
       "    }\n",
       "\n",
       "    .dataframe thead th {\n",
       "        text-align: right;\n",
       "    }\n",
       "</style>\n",
       "<table border=\"1\" class=\"dataframe\">\n",
       "  <thead>\n",
       "    <tr style=\"text-align: right;\">\n",
       "      <th></th>\n",
       "      <th>uuid</th>\n",
       "      <th>name</th>\n",
       "      <th>type</th>\n",
       "      <th>permalink</th>\n",
       "      <th>cb_url</th>\n",
       "      <th>rank</th>\n",
       "      <th>created_at</th>\n",
       "      <th>updated_at</th>\n",
       "      <th>first_name</th>\n",
       "      <th>last_name</th>\n",
       "      <th>gender</th>\n",
       "      <th>country_code</th>\n",
       "      <th>state_code</th>\n",
       "      <th>region</th>\n",
       "      <th>city</th>\n",
       "      <th>featured_job_organization_uuid</th>\n",
       "      <th>featured_job_organization_name</th>\n",
       "      <th>featured_job_title</th>\n",
       "      <th>facebook_url</th>\n",
       "      <th>linkedin_url</th>\n",
       "      <th>twitter_url</th>\n",
       "      <th>logo_url</th>\n",
       "    </tr>\n",
       "  </thead>\n",
       "  <tbody>\n",
       "    <tr>\n",
       "      <th>0</th>\n",
       "      <td>ed13cd36-fe2b-3707-197b-0c2d56e37a71</td>\n",
       "      <td>Ben Elowitz</td>\n",
       "      <td>person</td>\n",
       "      <td>ben-elowitz</td>\n",
       "      <td>https://www.crunchbase.com/person/ben-elowitz</td>\n",
       "      <td>28539.0</td>\n",
       "      <td>2007-05-25 14:03:54</td>\n",
       "      <td>2022-05-09 09:53:04</td>\n",
       "      <td>Ben</td>\n",
       "      <td>Elowitz</td>\n",
       "      <td>male</td>\n",
       "      <td>USA</td>\n",
       "      <td>WA</td>\n",
       "      <td>Washington</td>\n",
       "      <td>Seattle</td>\n",
       "      <td>1d845b32-7d80-47af-957d-78ccbeeaefb6</td>\n",
       "      <td>Zeitworks</td>\n",
       "      <td>Co-Founder</td>\n",
       "      <td>http://www.facebook.com/elowitz</td>\n",
       "      <td>https://www.linkedin.com/in/elowitz</td>\n",
       "      <td>http://twitter.com/elowitz</td>\n",
       "      <td>https://res.cloudinary.com/crunchbase-producti...</td>\n",
       "    </tr>\n",
       "    <tr>\n",
       "      <th>1</th>\n",
       "      <td>5ceca97b-493c-1446-6249-5aaa33464763</td>\n",
       "      <td>Kevin Flaherty</td>\n",
       "      <td>person</td>\n",
       "      <td>kevin-flaherty</td>\n",
       "      <td>https://www.crunchbase.com/person/kevin-flaherty</td>\n",
       "      <td>213869.0</td>\n",
       "      <td>2007-05-25 14:04:16</td>\n",
       "      <td>2018-02-12 23:14:37</td>\n",
       "      <td>Kevin</td>\n",
       "      <td>Flaherty</td>\n",
       "      <td>male</td>\n",
       "      <td>USA</td>\n",
       "      <td>WA</td>\n",
       "      <td>Washington</td>\n",
       "      <td>Mercer Island</td>\n",
       "      <td>789e5e4d-0c90-d06e-92a0-b800b461c3da</td>\n",
       "      <td>DRSmedia</td>\n",
       "      <td>Team Member</td>\n",
       "      <td>NaN</td>\n",
       "      <td>http://www.linkedin.com/in/kevinflaherty</td>\n",
       "      <td>https://twitter.com/tallkp</td>\n",
       "      <td>https://res.cloudinary.com/crunchbase-producti...</td>\n",
       "    </tr>\n",
       "    <tr>\n",
       "      <th>2</th>\n",
       "      <td>9f99a98a-aa97-b30b-0d36-db67c1d277e0</td>\n",
       "      <td>Raju Vegesna</td>\n",
       "      <td>person</td>\n",
       "      <td>raju-vegesna</td>\n",
       "      <td>https://www.crunchbase.com/person/raju-vegesna</td>\n",
       "      <td>9695.0</td>\n",
       "      <td>2007-05-26 02:33:03</td>\n",
       "      <td>2022-02-24 12:24:29</td>\n",
       "      <td>Raju</td>\n",
       "      <td>Vegesna</td>\n",
       "      <td>male</td>\n",
       "      <td>USA</td>\n",
       "      <td>CA</td>\n",
       "      <td>California</td>\n",
       "      <td>San Francisco</td>\n",
       "      <td>bf4d7b0e-b34d-2fd8-d292-6049c4f7efc7</td>\n",
       "      <td>Zoho</td>\n",
       "      <td>Chief Evangelist</td>\n",
       "      <td>NaN</td>\n",
       "      <td>https://www.linkedin.com/in/raju-vegesna-78a6541</td>\n",
       "      <td>https://twitter.com/rajuv</td>\n",
       "      <td>https://res.cloudinary.com/crunchbase-producti...</td>\n",
       "    </tr>\n",
       "    <tr>\n",
       "      <th>3</th>\n",
       "      <td>6e1bca72-a865-b518-b305-31214ce2d1b0</td>\n",
       "      <td>Ian Wenig</td>\n",
       "      <td>person</td>\n",
       "      <td>ian-wenig</td>\n",
       "      <td>https://www.crunchbase.com/person/ian-wenig</td>\n",
       "      <td>321152.0</td>\n",
       "      <td>2007-05-26 02:34:53</td>\n",
       "      <td>2021-03-23 10:25:04</td>\n",
       "      <td>Ian</td>\n",
       "      <td>Wenig</td>\n",
       "      <td>male</td>\n",
       "      <td>NaN</td>\n",
       "      <td>NaN</td>\n",
       "      <td>NaN</td>\n",
       "      <td>NaN</td>\n",
       "      <td>bf4d7b0e-b34d-2fd8-d292-6049c4f7efc7</td>\n",
       "      <td>Zoho</td>\n",
       "      <td>VP Business Development</td>\n",
       "      <td>NaN</td>\n",
       "      <td>NaN</td>\n",
       "      <td>NaN</td>\n",
       "      <td>https://res.cloudinary.com/crunchbase-producti...</td>\n",
       "    </tr>\n",
       "    <tr>\n",
       "      <th>4</th>\n",
       "      <td>3b598c59-7b6c-2d48-763c-da55bca77035</td>\n",
       "      <td>Owen Byrne</td>\n",
       "      <td>person</td>\n",
       "      <td>owen-byrne</td>\n",
       "      <td>https://www.crunchbase.com/person/owen-byrne</td>\n",
       "      <td>544112.0</td>\n",
       "      <td>2007-05-26 03:06:45</td>\n",
       "      <td>2022-04-08 19:52:41</td>\n",
       "      <td>Owen</td>\n",
       "      <td>Byrne</td>\n",
       "      <td>male</td>\n",
       "      <td>USA</td>\n",
       "      <td>CA</td>\n",
       "      <td>California</td>\n",
       "      <td>Mountain View</td>\n",
       "      <td>NaN</td>\n",
       "      <td>NaN</td>\n",
       "      <td>NaN</td>\n",
       "      <td>NaN</td>\n",
       "      <td>https://www.linkedin.com/in/ojbyrne</td>\n",
       "      <td>http://twitter.com/owenbyrne</td>\n",
       "      <td>https://res.cloudinary.com/crunchbase-producti...</td>\n",
       "    </tr>\n",
       "  </tbody>\n",
       "</table>\n",
       "</div>"
      ],
      "text/plain": [
       "                                   uuid            name    type  \\\n",
       "0  ed13cd36-fe2b-3707-197b-0c2d56e37a71     Ben Elowitz  person   \n",
       "1  5ceca97b-493c-1446-6249-5aaa33464763  Kevin Flaherty  person   \n",
       "2  9f99a98a-aa97-b30b-0d36-db67c1d277e0    Raju Vegesna  person   \n",
       "3  6e1bca72-a865-b518-b305-31214ce2d1b0       Ian Wenig  person   \n",
       "4  3b598c59-7b6c-2d48-763c-da55bca77035      Owen Byrne  person   \n",
       "\n",
       "        permalink                                            cb_url      rank  \\\n",
       "0     ben-elowitz     https://www.crunchbase.com/person/ben-elowitz   28539.0   \n",
       "1  kevin-flaherty  https://www.crunchbase.com/person/kevin-flaherty  213869.0   \n",
       "2    raju-vegesna    https://www.crunchbase.com/person/raju-vegesna    9695.0   \n",
       "3       ian-wenig       https://www.crunchbase.com/person/ian-wenig  321152.0   \n",
       "4      owen-byrne      https://www.crunchbase.com/person/owen-byrne  544112.0   \n",
       "\n",
       "            created_at           updated_at first_name last_name gender  \\\n",
       "0  2007-05-25 14:03:54  2022-05-09 09:53:04        Ben   Elowitz   male   \n",
       "1  2007-05-25 14:04:16  2018-02-12 23:14:37      Kevin  Flaherty   male   \n",
       "2  2007-05-26 02:33:03  2022-02-24 12:24:29       Raju   Vegesna   male   \n",
       "3  2007-05-26 02:34:53  2021-03-23 10:25:04        Ian     Wenig   male   \n",
       "4  2007-05-26 03:06:45  2022-04-08 19:52:41       Owen     Byrne   male   \n",
       "\n",
       "  country_code state_code      region           city  \\\n",
       "0          USA         WA  Washington        Seattle   \n",
       "1          USA         WA  Washington  Mercer Island   \n",
       "2          USA         CA  California  San Francisco   \n",
       "3          NaN        NaN         NaN            NaN   \n",
       "4          USA         CA  California  Mountain View   \n",
       "\n",
       "         featured_job_organization_uuid featured_job_organization_name  \\\n",
       "0  1d845b32-7d80-47af-957d-78ccbeeaefb6                      Zeitworks   \n",
       "1  789e5e4d-0c90-d06e-92a0-b800b461c3da                       DRSmedia   \n",
       "2  bf4d7b0e-b34d-2fd8-d292-6049c4f7efc7                           Zoho   \n",
       "3  bf4d7b0e-b34d-2fd8-d292-6049c4f7efc7                           Zoho   \n",
       "4                                   NaN                            NaN   \n",
       "\n",
       "        featured_job_title                     facebook_url  \\\n",
       "0               Co-Founder  http://www.facebook.com/elowitz   \n",
       "1              Team Member                              NaN   \n",
       "2         Chief Evangelist                              NaN   \n",
       "3  VP Business Development                              NaN   \n",
       "4                      NaN                              NaN   \n",
       "\n",
       "                                       linkedin_url  \\\n",
       "0               https://www.linkedin.com/in/elowitz   \n",
       "1          http://www.linkedin.com/in/kevinflaherty   \n",
       "2  https://www.linkedin.com/in/raju-vegesna-78a6541   \n",
       "3                                               NaN   \n",
       "4               https://www.linkedin.com/in/ojbyrne   \n",
       "\n",
       "                    twitter_url  \\\n",
       "0    http://twitter.com/elowitz   \n",
       "1    https://twitter.com/tallkp   \n",
       "2     https://twitter.com/rajuv   \n",
       "3                           NaN   \n",
       "4  http://twitter.com/owenbyrne   \n",
       "\n",
       "                                            logo_url  \n",
       "0  https://res.cloudinary.com/crunchbase-producti...  \n",
       "1  https://res.cloudinary.com/crunchbase-producti...  \n",
       "2  https://res.cloudinary.com/crunchbase-producti...  \n",
       "3  https://res.cloudinary.com/crunchbase-producti...  \n",
       "4  https://res.cloudinary.com/crunchbase-producti...  "
      ]
     },
     "execution_count": 346,
     "metadata": {},
     "output_type": "execute_result"
    }
   ],
   "source": [
    "people.head()"
   ]
  },
  {
   "cell_type": "markdown",
   "id": "2754d096",
   "metadata": {},
   "source": [
    "Пока что ничего лучше для того, чтобы получить информацию о том, кто фаундер сделать не получается."
   ]
  },
  {
   "cell_type": "code",
   "execution_count": 347,
   "id": "aed28bbf",
   "metadata": {},
   "outputs": [],
   "source": [
    "founders = people[people['featured_job_title'].fillna('none').str.contains('Founder')]"
   ]
  },
  {
   "cell_type": "code",
   "execution_count": 348,
   "id": "43842f06",
   "metadata": {
    "scrolled": true
   },
   "outputs": [],
   "source": [
    "all_data_with_founders = all_data[all_data.uuid.isin(founders.featured_job_organization_uuid)]"
   ]
  },
  {
   "cell_type": "code",
   "execution_count": 349,
   "id": "ea50a912",
   "metadata": {
    "scrolled": true
   },
   "outputs": [],
   "source": [
    "founders = founders[founders.featured_job_organization_uuid.isin(all_data.uuid)]"
   ]
  },
  {
   "cell_type": "code",
   "execution_count": 350,
   "id": "2a05ccf4",
   "metadata": {},
   "outputs": [],
   "source": [
    "founders['created_at'] = pd.to_datetime(founders['created_at'])"
   ]
  },
  {
   "cell_type": "code",
   "execution_count": 351,
   "id": "821cd928",
   "metadata": {
    "scrolled": true
   },
   "outputs": [],
   "source": [
    "founders_not_dup = founders.drop_duplicates(subset=['featured_job_organization_uuid'],keep = 'first')"
   ]
  },
  {
   "cell_type": "code",
   "execution_count": 352,
   "id": "2853c51e",
   "metadata": {},
   "outputs": [
    {
     "data": {
      "text/plain": [
       "(57033, 22)"
      ]
     },
     "execution_count": 352,
     "metadata": {},
     "output_type": "execute_result"
    }
   ],
   "source": [
    "founders.shape"
   ]
  },
  {
   "cell_type": "markdown",
   "id": "275b4415",
   "metadata": {},
   "source": [
    "В общем в датасете из 0 и 1, собранном из компаний 150к записей. Пересечение людей из people (по сути поиск фаундеров) - 57к. То есть большинство компаний не пересекается по фаундерам."
   ]
  },
  {
   "cell_type": "code",
   "execution_count": 353,
   "id": "417976b5",
   "metadata": {},
   "outputs": [],
   "source": [
    "founders_not_dup = founders_not_dup[['country_code','gender','uuid','featured_job_organization_uuid']]"
   ]
  },
  {
   "cell_type": "code",
   "execution_count": 354,
   "id": "ec01e4e4",
   "metadata": {},
   "outputs": [
    {
     "data": {
      "text/html": [
       "<div>\n",
       "<style scoped>\n",
       "    .dataframe tbody tr th:only-of-type {\n",
       "        vertical-align: middle;\n",
       "    }\n",
       "\n",
       "    .dataframe tbody tr th {\n",
       "        vertical-align: top;\n",
       "    }\n",
       "\n",
       "    .dataframe thead th {\n",
       "        text-align: right;\n",
       "    }\n",
       "</style>\n",
       "<table border=\"1\" class=\"dataframe\">\n",
       "  <thead>\n",
       "    <tr style=\"text-align: right;\">\n",
       "      <th></th>\n",
       "      <th>country_code</th>\n",
       "      <th>gender</th>\n",
       "      <th>uuid</th>\n",
       "      <th>featured_job_organization_uuid</th>\n",
       "    </tr>\n",
       "  </thead>\n",
       "  <tbody>\n",
       "    <tr>\n",
       "      <th>5</th>\n",
       "      <td>NaN</td>\n",
       "      <td>male</td>\n",
       "      <td>80d25c23-9726-9dda-5852-39cdf4810ea5</td>\n",
       "      <td>aa3bf156-06af-5b6e-215d-9e7211fc173b</td>\n",
       "    </tr>\n",
       "    <tr>\n",
       "      <th>7</th>\n",
       "      <td>USA</td>\n",
       "      <td>male</td>\n",
       "      <td>084aaa07-0795-1fe8-9c46-98bbeb02cd64</td>\n",
       "      <td>c2d47d05-9e78-de77-084c-dd5171251ff1</td>\n",
       "    </tr>\n",
       "    <tr>\n",
       "      <th>34</th>\n",
       "      <td>ISR</td>\n",
       "      <td>male</td>\n",
       "      <td>fdf8da1c-5a58-99db-5826-cc37cf71cc8d</td>\n",
       "      <td>8af30a7e-a25c-d163-1b3a-dca317b59da2</td>\n",
       "    </tr>\n",
       "    <tr>\n",
       "      <th>41</th>\n",
       "      <td>USA</td>\n",
       "      <td>male</td>\n",
       "      <td>ed865d7a-f877-d1cf-51d1-a6ae901de848</td>\n",
       "      <td>21e77067-5537-408e-cad7-e5e72bb6ad86</td>\n",
       "    </tr>\n",
       "    <tr>\n",
       "      <th>44</th>\n",
       "      <td>USA</td>\n",
       "      <td>male</td>\n",
       "      <td>b9537d2f-73ca-b793-4434-14482d979ae5</td>\n",
       "      <td>3ce10fe3-4bfb-0db3-9ba7-5c168b65645b</td>\n",
       "    </tr>\n",
       "    <tr>\n",
       "      <th>...</th>\n",
       "      <td>...</td>\n",
       "      <td>...</td>\n",
       "      <td>...</td>\n",
       "      <td>...</td>\n",
       "    </tr>\n",
       "    <tr>\n",
       "      <th>1460995</th>\n",
       "      <td>USA</td>\n",
       "      <td>male</td>\n",
       "      <td>aaa838f3-a80a-44d2-ab05-38adcbc668ff</td>\n",
       "      <td>23a6edd6-f5e0-ae66-6782-f31603710374</td>\n",
       "    </tr>\n",
       "    <tr>\n",
       "      <th>1461034</th>\n",
       "      <td>GRC</td>\n",
       "      <td>male</td>\n",
       "      <td>713b0c86-9e54-4917-acb9-3a817dd4441a</td>\n",
       "      <td>75c7266e-95fe-49a3-9357-ce015525fdfe</td>\n",
       "    </tr>\n",
       "    <tr>\n",
       "      <th>1461112</th>\n",
       "      <td>NaN</td>\n",
       "      <td>male</td>\n",
       "      <td>d74c2ef4-a6e7-4d5e-a76d-be27f32ae79b</td>\n",
       "      <td>42af882c-9058-4a46-a986-ac2cce7e3dfd</td>\n",
       "    </tr>\n",
       "    <tr>\n",
       "      <th>1461137</th>\n",
       "      <td>SGP</td>\n",
       "      <td>male</td>\n",
       "      <td>c9c9d764-ec42-4489-ba87-6574b0fed493</td>\n",
       "      <td>df1284fd-e515-4d2a-b2f3-aee4e8696e9d</td>\n",
       "    </tr>\n",
       "    <tr>\n",
       "      <th>1461202</th>\n",
       "      <td>NaN</td>\n",
       "      <td>male</td>\n",
       "      <td>76b4b015-6938-4dc4-b972-d9d7d4b01d4c</td>\n",
       "      <td>2a536d1a-f759-4eb5-97fe-fe3ae6214ec5</td>\n",
       "    </tr>\n",
       "  </tbody>\n",
       "</table>\n",
       "<p>39627 rows × 4 columns</p>\n",
       "</div>"
      ],
      "text/plain": [
       "        country_code gender                                  uuid  \\\n",
       "5                NaN   male  80d25c23-9726-9dda-5852-39cdf4810ea5   \n",
       "7                USA   male  084aaa07-0795-1fe8-9c46-98bbeb02cd64   \n",
       "34               ISR   male  fdf8da1c-5a58-99db-5826-cc37cf71cc8d   \n",
       "41               USA   male  ed865d7a-f877-d1cf-51d1-a6ae901de848   \n",
       "44               USA   male  b9537d2f-73ca-b793-4434-14482d979ae5   \n",
       "...              ...    ...                                   ...   \n",
       "1460995          USA   male  aaa838f3-a80a-44d2-ab05-38adcbc668ff   \n",
       "1461034          GRC   male  713b0c86-9e54-4917-acb9-3a817dd4441a   \n",
       "1461112          NaN   male  d74c2ef4-a6e7-4d5e-a76d-be27f32ae79b   \n",
       "1461137          SGP   male  c9c9d764-ec42-4489-ba87-6574b0fed493   \n",
       "1461202          NaN   male  76b4b015-6938-4dc4-b972-d9d7d4b01d4c   \n",
       "\n",
       "               featured_job_organization_uuid  \n",
       "5        aa3bf156-06af-5b6e-215d-9e7211fc173b  \n",
       "7        c2d47d05-9e78-de77-084c-dd5171251ff1  \n",
       "34       8af30a7e-a25c-d163-1b3a-dca317b59da2  \n",
       "41       21e77067-5537-408e-cad7-e5e72bb6ad86  \n",
       "44       3ce10fe3-4bfb-0db3-9ba7-5c168b65645b  \n",
       "...                                       ...  \n",
       "1460995  23a6edd6-f5e0-ae66-6782-f31603710374  \n",
       "1461034  75c7266e-95fe-49a3-9357-ce015525fdfe  \n",
       "1461112  42af882c-9058-4a46-a986-ac2cce7e3dfd  \n",
       "1461137  df1284fd-e515-4d2a-b2f3-aee4e8696e9d  \n",
       "1461202  2a536d1a-f759-4eb5-97fe-fe3ae6214ec5  \n",
       "\n",
       "[39627 rows x 4 columns]"
      ]
     },
     "execution_count": 354,
     "metadata": {},
     "output_type": "execute_result"
    }
   ],
   "source": [
    "founders_not_dup"
   ]
  },
  {
   "cell_type": "markdown",
   "id": "ccccab34",
   "metadata": {},
   "source": [
    "# DEGREES"
   ]
  },
  {
   "cell_type": "code",
   "execution_count": 355,
   "id": "50f973c4",
   "metadata": {},
   "outputs": [],
   "source": [
    "degrees = pd.read_csv('../CRUNCHBASE_DATA/bulk_export/degrees.csv')"
   ]
  },
  {
   "cell_type": "code",
   "execution_count": 356,
   "id": "9f9c80f4",
   "metadata": {
    "scrolled": false
   },
   "outputs": [
    {
     "data": {
      "text/html": [
       "<div>\n",
       "<style scoped>\n",
       "    .dataframe tbody tr th:only-of-type {\n",
       "        vertical-align: middle;\n",
       "    }\n",
       "\n",
       "    .dataframe tbody tr th {\n",
       "        vertical-align: top;\n",
       "    }\n",
       "\n",
       "    .dataframe thead th {\n",
       "        text-align: right;\n",
       "    }\n",
       "</style>\n",
       "<table border=\"1\" class=\"dataframe\">\n",
       "  <thead>\n",
       "    <tr style=\"text-align: right;\">\n",
       "      <th></th>\n",
       "      <th>uuid</th>\n",
       "      <th>name</th>\n",
       "      <th>type</th>\n",
       "      <th>permalink</th>\n",
       "      <th>cb_url</th>\n",
       "      <th>rank</th>\n",
       "      <th>created_at</th>\n",
       "      <th>updated_at</th>\n",
       "      <th>person_uuid</th>\n",
       "      <th>person_name</th>\n",
       "      <th>institution_uuid</th>\n",
       "      <th>institution_name</th>\n",
       "      <th>degree_type</th>\n",
       "      <th>subject</th>\n",
       "      <th>started_on</th>\n",
       "      <th>completed_on</th>\n",
       "      <th>is_completed</th>\n",
       "    </tr>\n",
       "  </thead>\n",
       "  <tbody>\n",
       "    <tr>\n",
       "      <th>0</th>\n",
       "      <td>205fdfd1-ecac-aa43-262f-219f11755f67</td>\n",
       "      <td>MS  Mass Communication @ Boston University</td>\n",
       "      <td>degree</td>\n",
       "      <td>NaN</td>\n",
       "      <td>NaN</td>\n",
       "      <td>NaN</td>\n",
       "      <td>2008-02-19 17:58:31</td>\n",
       "      <td>2018-02-13 01:40:03</td>\n",
       "      <td>4897dba9-3141-ecc0-2c4b-c9d844e6440f</td>\n",
       "      <td>John Green</td>\n",
       "      <td>1eab62d2-15d9-0db7-930f-2aa77d4688e1</td>\n",
       "      <td>Boston University</td>\n",
       "      <td>MS</td>\n",
       "      <td>Mass Communication</td>\n",
       "      <td>NaN</td>\n",
       "      <td>1992-01-01</td>\n",
       "      <td>True</td>\n",
       "    </tr>\n",
       "    <tr>\n",
       "      <th>1</th>\n",
       "      <td>1a2ac288-eb99-3318-fde5-1517bc168f51</td>\n",
       "      <td>BA  English, French @ Washington University in...</td>\n",
       "      <td>degree</td>\n",
       "      <td>NaN</td>\n",
       "      <td>NaN</td>\n",
       "      <td>NaN</td>\n",
       "      <td>2008-02-19 17:58:31</td>\n",
       "      <td>2018-02-13 01:39:57</td>\n",
       "      <td>4897dba9-3141-ecc0-2c4b-c9d844e6440f</td>\n",
       "      <td>John Green</td>\n",
       "      <td>6ae9957a-8fb4-0ab1-73fa-dd547c4d3da4</td>\n",
       "      <td>Washington University in St. Louis</td>\n",
       "      <td>BA</td>\n",
       "      <td>English, French</td>\n",
       "      <td>NaN</td>\n",
       "      <td>1990-01-01</td>\n",
       "      <td>True</td>\n",
       "    </tr>\n",
       "    <tr>\n",
       "      <th>2</th>\n",
       "      <td>b978d338-7ccc-7469-5ce7-ef98c34155ad</td>\n",
       "      <td>MS  Internet Technology @ University of Greenwich</td>\n",
       "      <td>degree</td>\n",
       "      <td>NaN</td>\n",
       "      <td>NaN</td>\n",
       "      <td>NaN</td>\n",
       "      <td>2008-02-19 23:40:40</td>\n",
       "      <td>2018-02-13 01:43:09</td>\n",
       "      <td>29ea5efc-fd7a-402b-3a5d-b8660ac105ea</td>\n",
       "      <td>Sridhar Gundaiah</td>\n",
       "      <td>b5ea73f6-12a3-576d-ae9b-f4169147f974</td>\n",
       "      <td>University of Greenwich</td>\n",
       "      <td>MS</td>\n",
       "      <td>Internet Technology</td>\n",
       "      <td>NaN</td>\n",
       "      <td>2006-01-01</td>\n",
       "      <td>True</td>\n",
       "    </tr>\n",
       "    <tr>\n",
       "      <th>3</th>\n",
       "      <td>d01cfaad-0ccc-631e-0382-1e507bf6ba04</td>\n",
       "      <td>BS  Computer Science @ Northeastern University</td>\n",
       "      <td>degree</td>\n",
       "      <td>NaN</td>\n",
       "      <td>NaN</td>\n",
       "      <td>NaN</td>\n",
       "      <td>2008-02-21 01:31:01</td>\n",
       "      <td>2018-02-13 01:43:33</td>\n",
       "      <td>45e29113-19f9-c828-68d0-42ad2ef04da0</td>\n",
       "      <td>John Furrier</td>\n",
       "      <td>5f84d9fa-78fd-14b0-d335-5ac3561cdc0a</td>\n",
       "      <td>Northeastern University</td>\n",
       "      <td>BS</td>\n",
       "      <td>Computer Science</td>\n",
       "      <td>NaN</td>\n",
       "      <td>1988-01-01</td>\n",
       "      <td>True</td>\n",
       "    </tr>\n",
       "    <tr>\n",
       "      <th>4</th>\n",
       "      <td>16a607f5-8ab3-573e-8d09-57b3e352e1d3</td>\n",
       "      <td>BS  Computer Science @ Rochester Institute of ...</td>\n",
       "      <td>degree</td>\n",
       "      <td>NaN</td>\n",
       "      <td>NaN</td>\n",
       "      <td>NaN</td>\n",
       "      <td>2008-02-21 01:31:34</td>\n",
       "      <td>2018-02-13 01:39:53</td>\n",
       "      <td>b3b4ec6b-86fe-dd6e-ec8a-e8e7e999f274</td>\n",
       "      <td>Ian Reardon</td>\n",
       "      <td>1a380593-fb9d-7f7b-ae67-784ce3ff3690</td>\n",
       "      <td>Rochester Institute of Technology</td>\n",
       "      <td>BS</td>\n",
       "      <td>Computer Science</td>\n",
       "      <td>NaN</td>\n",
       "      <td>2002-01-01</td>\n",
       "      <td>True</td>\n",
       "    </tr>\n",
       "  </tbody>\n",
       "</table>\n",
       "</div>"
      ],
      "text/plain": [
       "                                   uuid  \\\n",
       "0  205fdfd1-ecac-aa43-262f-219f11755f67   \n",
       "1  1a2ac288-eb99-3318-fde5-1517bc168f51   \n",
       "2  b978d338-7ccc-7469-5ce7-ef98c34155ad   \n",
       "3  d01cfaad-0ccc-631e-0382-1e507bf6ba04   \n",
       "4  16a607f5-8ab3-573e-8d09-57b3e352e1d3   \n",
       "\n",
       "                                                name    type  permalink  \\\n",
       "0         MS  Mass Communication @ Boston University  degree        NaN   \n",
       "1  BA  English, French @ Washington University in...  degree        NaN   \n",
       "2  MS  Internet Technology @ University of Greenwich  degree        NaN   \n",
       "3     BS  Computer Science @ Northeastern University  degree        NaN   \n",
       "4  BS  Computer Science @ Rochester Institute of ...  degree        NaN   \n",
       "\n",
       "   cb_url  rank           created_at           updated_at  \\\n",
       "0     NaN   NaN  2008-02-19 17:58:31  2018-02-13 01:40:03   \n",
       "1     NaN   NaN  2008-02-19 17:58:31  2018-02-13 01:39:57   \n",
       "2     NaN   NaN  2008-02-19 23:40:40  2018-02-13 01:43:09   \n",
       "3     NaN   NaN  2008-02-21 01:31:01  2018-02-13 01:43:33   \n",
       "4     NaN   NaN  2008-02-21 01:31:34  2018-02-13 01:39:53   \n",
       "\n",
       "                            person_uuid       person_name  \\\n",
       "0  4897dba9-3141-ecc0-2c4b-c9d844e6440f        John Green   \n",
       "1  4897dba9-3141-ecc0-2c4b-c9d844e6440f        John Green   \n",
       "2  29ea5efc-fd7a-402b-3a5d-b8660ac105ea  Sridhar Gundaiah   \n",
       "3  45e29113-19f9-c828-68d0-42ad2ef04da0      John Furrier   \n",
       "4  b3b4ec6b-86fe-dd6e-ec8a-e8e7e999f274       Ian Reardon   \n",
       "\n",
       "                       institution_uuid                    institution_name  \\\n",
       "0  1eab62d2-15d9-0db7-930f-2aa77d4688e1                   Boston University   \n",
       "1  6ae9957a-8fb4-0ab1-73fa-dd547c4d3da4  Washington University in St. Louis   \n",
       "2  b5ea73f6-12a3-576d-ae9b-f4169147f974             University of Greenwich   \n",
       "3  5f84d9fa-78fd-14b0-d335-5ac3561cdc0a             Northeastern University   \n",
       "4  1a380593-fb9d-7f7b-ae67-784ce3ff3690   Rochester Institute of Technology   \n",
       "\n",
       "  degree_type              subject started_on completed_on  is_completed  \n",
       "0          MS   Mass Communication        NaN   1992-01-01          True  \n",
       "1          BA      English, French        NaN   1990-01-01          True  \n",
       "2          MS  Internet Technology        NaN   2006-01-01          True  \n",
       "3          BS     Computer Science        NaN   1988-01-01          True  \n",
       "4          BS     Computer Science        NaN   2002-01-01          True  "
      ]
     },
     "execution_count": 356,
     "metadata": {},
     "output_type": "execute_result"
    }
   ],
   "source": [
    "degrees.head()"
   ]
  },
  {
   "cell_type": "markdown",
   "id": "73b1f3b8",
   "metadata": {},
   "source": [
    "Очень много уникальных значений по типо образования."
   ]
  },
  {
   "cell_type": "code",
   "execution_count": 364,
   "id": "feb3ced9",
   "metadata": {},
   "outputs": [
    {
     "data": {
      "text/plain": [
       "array(['MS', 'BA', 'M.A.', ..., 'Dermatology Residency Program',\n",
       "       'Dermatology', 'Molecular Immunology'], dtype=object)"
      ]
     },
     "execution_count": 364,
     "metadata": {},
     "output_type": "execute_result"
    }
   ],
   "source": [
    "degrees['degree_type'].unique()"
   ]
  },
  {
   "cell_type": "code",
   "execution_count": 365,
   "id": "27d8452f",
   "metadata": {},
   "outputs": [
    {
     "data": {
      "text/plain": [
       "array(['Mass Communication', 'English, French', 'Internet Technology',\n",
       "       ..., 'Electrical Engineering, Applied Mathematics',\n",
       "       'Graphic Design and Marketing', 'Finance and Accounting, Business'],\n",
       "      dtype=object)"
      ]
     },
     "execution_count": 365,
     "metadata": {},
     "output_type": "execute_result"
    }
   ],
   "source": [
    "degrees['subject'].unique()"
   ]
  },
  {
   "cell_type": "code",
   "execution_count": 357,
   "id": "87addcd7",
   "metadata": {},
   "outputs": [
    {
     "data": {
      "text/plain": [
       "28867"
      ]
     },
     "execution_count": 357,
     "metadata": {},
     "output_type": "execute_result"
    }
   ],
   "source": [
    "degrees['degree_type'].nunique()"
   ]
  },
  {
   "cell_type": "markdown",
   "id": "c45a2b1b",
   "metadata": {},
   "source": [
    "Из 57к фаундеров, которых можно сматчить с компаниями из all_data, информация по образованию есть у 29к. То есть понижение воронки еще в 2 раза."
   ]
  },
  {
   "cell_type": "code",
   "execution_count": 358,
   "id": "e99f258e",
   "metadata": {},
   "outputs": [],
   "source": [
    "degrees = degrees[degrees.person_uuid.isin(founders.uuid)]"
   ]
  },
  {
   "cell_type": "code",
   "execution_count": 359,
   "id": "8a35877b",
   "metadata": {},
   "outputs": [
    {
     "data": {
      "text/plain": [
       "(29232, 17)"
      ]
     },
     "execution_count": 359,
     "metadata": {},
     "output_type": "execute_result"
    }
   ],
   "source": [
    "degrees.shape"
   ]
  },
  {
   "cell_type": "code",
   "execution_count": 362,
   "id": "969f6859",
   "metadata": {},
   "outputs": [
    {
     "data": {
      "text/plain": [
       "(57033, 22)"
      ]
     },
     "execution_count": 362,
     "metadata": {},
     "output_type": "execute_result"
    }
   ],
   "source": [
    "founders.shape"
   ]
  },
  {
   "cell_type": "markdown",
   "id": "8f6c2ac5",
   "metadata": {},
   "source": [
    "Degree_type и subject потенциально полезные поля. Но заполняются не унифицировано (сверху видны примеры)\n",
    "\n",
    "Поэтому нужно придумать какой то хитрый способ как их обрабатывать. Пока что можно просто оставить 20 самых популярных, а в ином случае проставить лейбл others."
   ]
  },
  {
   "cell_type": "code",
   "execution_count": 366,
   "id": "9b973aa3",
   "metadata": {},
   "outputs": [],
   "source": [
    "top_20_degree_type = degrees['degree_type'].value_counts()[:20]"
   ]
  },
  {
   "cell_type": "code",
   "execution_count": 367,
   "id": "314bc0f8",
   "metadata": {},
   "outputs": [
    {
     "data": {
      "text/plain": [
       "MBA                    2868\n",
       "BS                     2680\n",
       "BA                     2119\n",
       "unknown                1752\n",
       "MS                     1218\n",
       "PhD                     916\n",
       "B.S.                    616\n",
       "Bachelor                519\n",
       "Ph.D                    508\n",
       "B.A.                    475\n",
       "BSc                     449\n",
       "Ph.D.                   401\n",
       "Master                  394\n",
       "MSc                     389\n",
       "Graduate                322\n",
       "Bachelor of Science     313\n",
       "BBA                     300\n",
       "Degree                  295\n",
       "Bachelor's Degree       278\n",
       "MA                      276\n",
       "Name: degree_type, dtype: int64"
      ]
     },
     "execution_count": 367,
     "metadata": {},
     "output_type": "execute_result"
    }
   ],
   "source": [
    "top_20_degree_type"
   ]
  },
  {
   "cell_type": "code",
   "execution_count": 368,
   "id": "bd632c66",
   "metadata": {},
   "outputs": [],
   "source": [
    "def deg_type(x):\n",
    "    if x in top_20_degree_type.index:\n",
    "        return x\n",
    "    else:\n",
    "        return 'others'"
   ]
  },
  {
   "cell_type": "code",
   "execution_count": 369,
   "id": "881f5db1",
   "metadata": {},
   "outputs": [],
   "source": [
    "degrees['degree_type'] = degrees['degree_type'].apply(deg_type)"
   ]
  },
  {
   "cell_type": "code",
   "execution_count": 370,
   "id": "96553188",
   "metadata": {},
   "outputs": [],
   "source": [
    "top_20_subjects = degrees['subject'].value_counts()[:20]"
   ]
  },
  {
   "cell_type": "code",
   "execution_count": 371,
   "id": "0478f271",
   "metadata": {},
   "outputs": [
    {
     "data": {
      "text/plain": [
       "unknown                    3380\n",
       "Computer Science           2421\n",
       "Economics                   730\n",
       "Electrical Engineering      673\n",
       "Mechanical Engineering      485\n",
       "Finance                     484\n",
       "Business Administration     392\n",
       "Computer Engineering        363\n",
       "Marketing                   303\n",
       "Business                    292\n",
       "Physics                     265\n",
       "Law                         247\n",
       "Engineering                 188\n",
       "Chemical Engineering        185\n",
       "Mathematics                 165\n",
       "Management                  163\n",
       "Political Science           154\n",
       "Psychology                  148\n",
       "Chemistry                   146\n",
       "Entrepreneurship            129\n",
       "Name: subject, dtype: int64"
      ]
     },
     "execution_count": 371,
     "metadata": {},
     "output_type": "execute_result"
    }
   ],
   "source": [
    "top_20_subjects"
   ]
  },
  {
   "cell_type": "code",
   "execution_count": 372,
   "id": "d938be67",
   "metadata": {},
   "outputs": [],
   "source": [
    "def subj_type(x):\n",
    "    if x in top_20_subjects.index:\n",
    "        return x\n",
    "    else:\n",
    "        return 'others'"
   ]
  },
  {
   "cell_type": "code",
   "execution_count": 373,
   "id": "40adbc8f",
   "metadata": {},
   "outputs": [],
   "source": [
    "degrees['subject'] = degrees['subject'].apply(subj_type)"
   ]
  },
  {
   "cell_type": "markdown",
   "id": "e520098c",
   "metadata": {},
   "source": [
    "Более чем у половины записей нет информации по началу обучения."
   ]
  },
  {
   "cell_type": "code",
   "execution_count": 374,
   "id": "421ad0f9",
   "metadata": {},
   "outputs": [
    {
     "data": {
      "text/plain": [
       "True     14912\n",
       "False    14320\n",
       "Name: started_on, dtype: int64"
      ]
     },
     "execution_count": 374,
     "metadata": {},
     "output_type": "execute_result"
    }
   ],
   "source": [
    "degrees['started_on'].isnull().value_counts()"
   ]
  },
  {
   "cell_type": "markdown",
   "id": "1dab8885",
   "metadata": {},
   "source": [
    "Зато у большего количества записей есть информация о дате конца обучения, что вообще говоря странно."
   ]
  },
  {
   "cell_type": "code",
   "execution_count": 375,
   "id": "aa11af80",
   "metadata": {},
   "outputs": [
    {
     "data": {
      "text/plain": [
       "False    17792\n",
       "True     11440\n",
       "Name: completed_on, dtype: int64"
      ]
     },
     "execution_count": 375,
     "metadata": {},
     "output_type": "execute_result"
    }
   ],
   "source": [
    "degrees['completed_on'].isnull().value_counts()"
   ]
  },
  {
   "cell_type": "markdown",
   "id": "4f851109",
   "metadata": {},
   "source": [
    "Сделаем фичу \"количество лет обучения\" - ну она будет доступеа только для тех, у кого есть информация о дате начала и конца обучения."
   ]
  },
  {
   "cell_type": "code",
   "execution_count": 376,
   "id": "a8b45249",
   "metadata": {},
   "outputs": [
    {
     "data": {
      "text/plain": [
       "21589"
      ]
     },
     "execution_count": 376,
     "metadata": {},
     "output_type": "execute_result"
    }
   ],
   "source": [
    "degrees['person_uuid'].nunique()"
   ]
  },
  {
   "cell_type": "code",
   "execution_count": 377,
   "id": "dbb18708",
   "metadata": {},
   "outputs": [],
   "source": [
    "degrees['started_on'] = pd.to_datetime(degrees['started_on'])"
   ]
  },
  {
   "cell_type": "code",
   "execution_count": 378,
   "id": "de7d035a",
   "metadata": {},
   "outputs": [],
   "source": [
    "degrees['completed_on'] = pd.to_datetime(degrees['completed_on'])"
   ]
  },
  {
   "cell_type": "code",
   "execution_count": 379,
   "id": "43dd391a",
   "metadata": {},
   "outputs": [],
   "source": [
    "degrees['years_of_studying'] = (degrees['completed_on'] - degrees['started_on']).dt.days/365"
   ]
  },
  {
   "cell_type": "markdown",
   "id": "daa8e25a",
   "metadata": {},
   "source": [
    "По каждому человеку (фаундеру) у нас может быть не только одна запись. Поэтому имеет смысл понять, какую из них стоит взять."
   ]
  },
  {
   "cell_type": "code",
   "execution_count": 380,
   "id": "052cf633",
   "metadata": {},
   "outputs": [],
   "source": [
    "degrees = degrees.sort_values(by='created_at')"
   ]
  },
  {
   "cell_type": "code",
   "execution_count": 381,
   "id": "e54579d1",
   "metadata": {},
   "outputs": [],
   "source": [
    "degrees_feats = degrees.groupby('person_uuid').agg({'years_of_studying':'sum','is_completed':'max',\\\n",
    "        'degree_type':'last','subject':'last'})"
   ]
  },
  {
   "cell_type": "markdown",
   "id": "b1ceb3ca",
   "metadata": {},
   "source": [
    "# Training"
   ]
  },
  {
   "cell_type": "markdown",
   "id": "8723d6e6",
   "metadata": {},
   "source": [
    "Обучаться пока что будем только на датасете компаний. Потому что воронки по данным слишком сильно сужаются. А потом попробуем модели с доп фичами (фаундеры, образование) - потому что они сильно понижают обучающую выборку."
   ]
  },
  {
   "cell_type": "code",
   "execution_count": 393,
   "id": "22154b1f",
   "metadata": {},
   "outputs": [],
   "source": [
    "from catboost import CatBoost, CatBoostRegressor, Pool\n",
    "from sklearn.model_selection import train_test_split"
   ]
  },
  {
   "cell_type": "code",
   "execution_count": 394,
   "id": "17bcace3",
   "metadata": {},
   "outputs": [
    {
     "data": {
      "text/plain": [
       "0    81610\n",
       "1    69877\n",
       "Name: label, dtype: int64"
      ]
     },
     "execution_count": 394,
     "metadata": {},
     "output_type": "execute_result"
    }
   ],
   "source": [
    "all_data.label.value_counts()"
   ]
  },
  {
   "cell_type": "code",
   "execution_count": 395,
   "id": "7e0bf007",
   "metadata": {},
   "outputs": [],
   "source": [
    "train, test = train_test_split(all_data,test_size=0.2,stratify =all_data.label.values )"
   ]
  },
  {
   "cell_type": "code",
   "execution_count": 396,
   "id": "1b44f78c",
   "metadata": {},
   "outputs": [],
   "source": [
    "categorical_features_names = ['country_code','employee_count','category_groups_list',]\n",
    "categorical_features_index = [1,2,3]"
   ]
  },
  {
   "cell_type": "code",
   "execution_count": 397,
   "id": "d011b0c2",
   "metadata": {},
   "outputs": [],
   "source": [
    "# X_train, y_train = all_data.loc[train.index].drop(['uuid','label'], axis = 1),\n",
    "#                           label=all_data.loc[train.index].label,\n",
    "#                           cat_features=categorical_features_names)\n",
    "# test_pool = Pool(all_data.loc[test.index].drop(['uuid','label'], axis = 1),\n",
    "#                 label=all_data.loc[test.index].label,\n",
    "#                 cat_features=categorical_features_names)"
   ]
  },
  {
   "cell_type": "code",
   "execution_count": 398,
   "id": "3d138e22",
   "metadata": {},
   "outputs": [],
   "source": [
    "X_train, y_train = all_data.loc[train.index].drop(['uuid','label'], axis = 1), all_data.loc[train.index].label\n",
    "X_test, y_test = all_data.loc[test.index].drop(['uuid','label'], axis = 1), all_data.loc[test.index].label"
   ]
  },
  {
   "cell_type": "code",
   "execution_count": 399,
   "id": "1518bffd",
   "metadata": {},
   "outputs": [],
   "source": [
    "from catboost import CatBoostClassifier\n",
    "\n",
    "clf = CatBoostClassifier(\n",
    "    iterations=100,\n",
    "    random_seed=42,\n",
    "    learning_rate=0.5,\n",
    "    loss_function = 'Logloss',\n",
    "    eval_metric = 'AUC',\n",
    "    custom_metric=['AUC', 'Accuracy']\n",
    ")"
   ]
  },
  {
   "cell_type": "code",
   "execution_count": 400,
   "id": "820e127e",
   "metadata": {
    "scrolled": false
   },
   "outputs": [
    {
     "data": {
      "application/vnd.jupyter.widget-view+json": {
       "model_id": "887fdd3352b04f5fbfd78ad0ca8c4968",
       "version_major": 2,
       "version_minor": 0
      },
      "text/plain": [
       "MetricVisualizer(layout=Layout(align_self='stretch', height='500px'))"
      ]
     },
     "metadata": {},
     "output_type": "display_data"
    },
    {
     "name": "stdout",
     "output_type": "stream",
     "text": [
      "0:\ttest: 0.8200713\tbest: 0.8200713 (0)\ttotal: 78ms\tremaining: 7.72s\n",
      "1:\ttest: 0.8416581\tbest: 0.8416581 (1)\ttotal: 95.7ms\tremaining: 4.69s\n",
      "2:\ttest: 0.8539020\tbest: 0.8539020 (2)\ttotal: 116ms\tremaining: 3.74s\n",
      "3:\ttest: 0.8572541\tbest: 0.8572541 (3)\ttotal: 137ms\tremaining: 3.28s\n",
      "4:\ttest: 0.8599509\tbest: 0.8599509 (4)\ttotal: 162ms\tremaining: 3.08s\n",
      "5:\ttest: 0.8609166\tbest: 0.8609166 (5)\ttotal: 183ms\tremaining: 2.87s\n",
      "6:\ttest: 0.8634363\tbest: 0.8634363 (6)\ttotal: 201ms\tremaining: 2.67s\n",
      "7:\ttest: 0.8642932\tbest: 0.8642932 (7)\ttotal: 223ms\tremaining: 2.56s\n",
      "8:\ttest: 0.8646598\tbest: 0.8646598 (8)\ttotal: 244ms\tremaining: 2.46s\n",
      "9:\ttest: 0.8656259\tbest: 0.8656259 (9)\ttotal: 273ms\tremaining: 2.46s\n",
      "10:\ttest: 0.8670944\tbest: 0.8670944 (10)\ttotal: 305ms\tremaining: 2.47s\n",
      "11:\ttest: 0.8675462\tbest: 0.8675462 (11)\ttotal: 332ms\tremaining: 2.43s\n",
      "12:\ttest: 0.8677877\tbest: 0.8677877 (12)\ttotal: 355ms\tremaining: 2.38s\n",
      "13:\ttest: 0.8682373\tbest: 0.8682373 (13)\ttotal: 375ms\tremaining: 2.31s\n",
      "14:\ttest: 0.8688327\tbest: 0.8688327 (14)\ttotal: 396ms\tremaining: 2.25s\n",
      "15:\ttest: 0.8691629\tbest: 0.8691629 (15)\ttotal: 421ms\tremaining: 2.21s\n",
      "16:\ttest: 0.8694101\tbest: 0.8694101 (16)\ttotal: 449ms\tremaining: 2.19s\n",
      "17:\ttest: 0.8701844\tbest: 0.8701844 (17)\ttotal: 470ms\tremaining: 2.14s\n",
      "18:\ttest: 0.8704176\tbest: 0.8704176 (18)\ttotal: 494ms\tremaining: 2.1s\n",
      "19:\ttest: 0.8709921\tbest: 0.8709921 (19)\ttotal: 515ms\tremaining: 2.06s\n",
      "20:\ttest: 0.8711311\tbest: 0.8711311 (20)\ttotal: 551ms\tremaining: 2.07s\n",
      "21:\ttest: 0.8711506\tbest: 0.8711506 (21)\ttotal: 570ms\tremaining: 2.02s\n",
      "22:\ttest: 0.8714524\tbest: 0.8714524 (22)\ttotal: 593ms\tremaining: 1.98s\n",
      "23:\ttest: 0.8715801\tbest: 0.8715801 (23)\ttotal: 611ms\tremaining: 1.94s\n",
      "24:\ttest: 0.8717365\tbest: 0.8717365 (24)\ttotal: 631ms\tremaining: 1.89s\n",
      "25:\ttest: 0.8722864\tbest: 0.8722864 (25)\ttotal: 652ms\tremaining: 1.85s\n",
      "26:\ttest: 0.8730915\tbest: 0.8730915 (26)\ttotal: 672ms\tremaining: 1.82s\n",
      "27:\ttest: 0.8732653\tbest: 0.8732653 (27)\ttotal: 695ms\tremaining: 1.79s\n",
      "28:\ttest: 0.8733153\tbest: 0.8733153 (28)\ttotal: 714ms\tremaining: 1.75s\n",
      "29:\ttest: 0.8735502\tbest: 0.8735502 (29)\ttotal: 735ms\tremaining: 1.72s\n",
      "30:\ttest: 0.8735856\tbest: 0.8735856 (30)\ttotal: 763ms\tremaining: 1.7s\n",
      "31:\ttest: 0.8738185\tbest: 0.8738185 (31)\ttotal: 782ms\tremaining: 1.66s\n",
      "32:\ttest: 0.8738733\tbest: 0.8738733 (32)\ttotal: 801ms\tremaining: 1.63s\n",
      "33:\ttest: 0.8740361\tbest: 0.8740361 (33)\ttotal: 820ms\tremaining: 1.59s\n",
      "34:\ttest: 0.8740361\tbest: 0.8740361 (33)\ttotal: 842ms\tremaining: 1.56s\n",
      "35:\ttest: 0.8740647\tbest: 0.8740647 (35)\ttotal: 861ms\tremaining: 1.53s\n",
      "36:\ttest: 0.8740582\tbest: 0.8740647 (35)\ttotal: 880ms\tremaining: 1.5s\n",
      "37:\ttest: 0.8742402\tbest: 0.8742402 (37)\ttotal: 902ms\tremaining: 1.47s\n",
      "38:\ttest: 0.8743426\tbest: 0.8743426 (38)\ttotal: 925ms\tremaining: 1.45s\n",
      "39:\ttest: 0.8744587\tbest: 0.8744587 (39)\ttotal: 950ms\tremaining: 1.43s\n",
      "40:\ttest: 0.8744728\tbest: 0.8744728 (40)\ttotal: 979ms\tremaining: 1.41s\n",
      "41:\ttest: 0.8746314\tbest: 0.8746314 (41)\ttotal: 1.01s\tremaining: 1.39s\n",
      "42:\ttest: 0.8747341\tbest: 0.8747341 (42)\ttotal: 1.1s\tremaining: 1.46s\n",
      "43:\ttest: 0.8747231\tbest: 0.8747341 (42)\ttotal: 1.13s\tremaining: 1.44s\n",
      "44:\ttest: 0.8745611\tbest: 0.8747341 (42)\ttotal: 1.15s\tremaining: 1.41s\n",
      "45:\ttest: 0.8747516\tbest: 0.8747516 (45)\ttotal: 1.18s\tremaining: 1.39s\n",
      "46:\ttest: 0.8748001\tbest: 0.8748001 (46)\ttotal: 1.2s\tremaining: 1.35s\n",
      "47:\ttest: 0.8750054\tbest: 0.8750054 (47)\ttotal: 1.22s\tremaining: 1.32s\n",
      "48:\ttest: 0.8751398\tbest: 0.8751398 (48)\ttotal: 1.24s\tremaining: 1.29s\n",
      "49:\ttest: 0.8754218\tbest: 0.8754218 (49)\ttotal: 1.26s\tremaining: 1.26s\n",
      "50:\ttest: 0.8754585\tbest: 0.8754585 (50)\ttotal: 1.29s\tremaining: 1.24s\n",
      "51:\ttest: 0.8756332\tbest: 0.8756332 (51)\ttotal: 1.31s\tremaining: 1.21s\n",
      "52:\ttest: 0.8756320\tbest: 0.8756332 (51)\ttotal: 1.33s\tremaining: 1.18s\n",
      "53:\ttest: 0.8756632\tbest: 0.8756632 (53)\ttotal: 1.35s\tremaining: 1.15s\n",
      "54:\ttest: 0.8756838\tbest: 0.8756838 (54)\ttotal: 1.37s\tremaining: 1.12s\n",
      "55:\ttest: 0.8756825\tbest: 0.8756838 (54)\ttotal: 1.4s\tremaining: 1.1s\n",
      "56:\ttest: 0.8757465\tbest: 0.8757465 (56)\ttotal: 1.44s\tremaining: 1.09s\n",
      "57:\ttest: 0.8757908\tbest: 0.8757908 (57)\ttotal: 1.47s\tremaining: 1.07s\n",
      "58:\ttest: 0.8759635\tbest: 0.8759635 (58)\ttotal: 1.5s\tremaining: 1.04s\n",
      "59:\ttest: 0.8759636\tbest: 0.8759636 (59)\ttotal: 1.51s\tremaining: 1.01s\n",
      "60:\ttest: 0.8759544\tbest: 0.8759636 (59)\ttotal: 1.54s\tremaining: 983ms\n",
      "61:\ttest: 0.8760014\tbest: 0.8760014 (61)\ttotal: 1.56s\tremaining: 955ms\n",
      "62:\ttest: 0.8760249\tbest: 0.8760249 (62)\ttotal: 1.58s\tremaining: 927ms\n",
      "63:\ttest: 0.8760903\tbest: 0.8760903 (63)\ttotal: 1.6s\tremaining: 901ms\n",
      "64:\ttest: 0.8762041\tbest: 0.8762041 (64)\ttotal: 1.62s\tremaining: 874ms\n",
      "65:\ttest: 0.8761549\tbest: 0.8762041 (64)\ttotal: 1.64s\tremaining: 846ms\n",
      "66:\ttest: 0.8762284\tbest: 0.8762284 (66)\ttotal: 1.67s\tremaining: 820ms\n",
      "67:\ttest: 0.8762509\tbest: 0.8762509 (67)\ttotal: 1.71s\tremaining: 803ms\n",
      "68:\ttest: 0.8762131\tbest: 0.8762509 (67)\ttotal: 1.73s\tremaining: 775ms\n",
      "69:\ttest: 0.8762132\tbest: 0.8762509 (67)\ttotal: 1.74s\tremaining: 747ms\n",
      "70:\ttest: 0.8762880\tbest: 0.8762880 (70)\ttotal: 1.76s\tremaining: 720ms\n",
      "71:\ttest: 0.8763638\tbest: 0.8763638 (71)\ttotal: 1.79s\tremaining: 696ms\n",
      "72:\ttest: 0.8763996\tbest: 0.8763996 (72)\ttotal: 1.81s\tremaining: 671ms\n",
      "73:\ttest: 0.8765235\tbest: 0.8765235 (73)\ttotal: 1.84s\tremaining: 647ms\n",
      "74:\ttest: 0.8766810\tbest: 0.8766810 (74)\ttotal: 1.87s\tremaining: 624ms\n",
      "75:\ttest: 0.8767143\tbest: 0.8767143 (75)\ttotal: 1.89s\tremaining: 598ms\n",
      "76:\ttest: 0.8767473\tbest: 0.8767473 (76)\ttotal: 1.92s\tremaining: 573ms\n",
      "77:\ttest: 0.8767740\tbest: 0.8767740 (77)\ttotal: 1.94s\tremaining: 548ms\n",
      "78:\ttest: 0.8767373\tbest: 0.8767740 (77)\ttotal: 1.98s\tremaining: 525ms\n",
      "79:\ttest: 0.8767418\tbest: 0.8767740 (77)\ttotal: 2.04s\tremaining: 509ms\n",
      "80:\ttest: 0.8767269\tbest: 0.8767740 (77)\ttotal: 2.06s\tremaining: 483ms\n",
      "81:\ttest: 0.8768462\tbest: 0.8768462 (81)\ttotal: 2.08s\tremaining: 458ms\n",
      "82:\ttest: 0.8768610\tbest: 0.8768610 (82)\ttotal: 2.11s\tremaining: 431ms\n",
      "83:\ttest: 0.8768724\tbest: 0.8768724 (83)\ttotal: 2.14s\tremaining: 407ms\n",
      "84:\ttest: 0.8768325\tbest: 0.8768724 (83)\ttotal: 2.16s\tremaining: 381ms\n",
      "85:\ttest: 0.8768803\tbest: 0.8768803 (85)\ttotal: 2.18s\tremaining: 355ms\n",
      "86:\ttest: 0.8770028\tbest: 0.8770028 (86)\ttotal: 2.21s\tremaining: 330ms\n",
      "87:\ttest: 0.8769757\tbest: 0.8770028 (86)\ttotal: 2.23s\tremaining: 304ms\n",
      "88:\ttest: 0.8770137\tbest: 0.8770137 (88)\ttotal: 2.26s\tremaining: 279ms\n",
      "89:\ttest: 0.8770814\tbest: 0.8770814 (89)\ttotal: 2.29s\tremaining: 255ms\n",
      "90:\ttest: 0.8770739\tbest: 0.8770814 (89)\ttotal: 2.31s\tremaining: 229ms\n",
      "91:\ttest: 0.8770641\tbest: 0.8770814 (89)\ttotal: 2.33s\tremaining: 203ms\n",
      "92:\ttest: 0.8770639\tbest: 0.8770814 (89)\ttotal: 2.36s\tremaining: 178ms\n",
      "93:\ttest: 0.8771237\tbest: 0.8771237 (93)\ttotal: 2.38s\tremaining: 152ms\n",
      "94:\ttest: 0.8771647\tbest: 0.8771647 (94)\ttotal: 2.4s\tremaining: 126ms\n",
      "95:\ttest: 0.8771762\tbest: 0.8771762 (95)\ttotal: 2.42s\tremaining: 101ms\n",
      "96:\ttest: 0.8771715\tbest: 0.8771762 (95)\ttotal: 2.44s\tremaining: 75.6ms\n",
      "97:\ttest: 0.8772199\tbest: 0.8772199 (97)\ttotal: 2.47s\tremaining: 50.4ms\n",
      "98:\ttest: 0.8771516\tbest: 0.8772199 (97)\ttotal: 2.49s\tremaining: 25.2ms\n",
      "99:\ttest: 0.8771087\tbest: 0.8772199 (97)\ttotal: 2.51s\tremaining: 0us\n",
      "\n",
      "bestTest = 0.8772198767\n",
      "bestIteration = 97\n",
      "\n",
      "Shrink model to first 98 iterations.\n"
     ]
    },
    {
     "data": {
      "text/plain": [
       "<catboost.core.CatBoostClassifier at 0x36b131310>"
      ]
     },
     "execution_count": 400,
     "metadata": {},
     "output_type": "execute_result"
    }
   ],
   "source": [
    "clf.fit(\n",
    "    X_train,y_train, eval_set=(X_test,y_test),\n",
    "    cat_features=categorical_features_index,\n",
    "    verbose=True,\n",
    "    plot=True\n",
    ")"
   ]
  },
  {
   "cell_type": "code",
   "execution_count": 516,
   "id": "da4bf969",
   "metadata": {},
   "outputs": [
    {
     "data": {
      "text/plain": [
       "{'learn': {'Accuracy': 0.8100675014428748, 'Logloss': 0.4214391670472051},\n",
       " 'validation': {'Accuracy': 0.8026364214259426,\n",
       "  'Logloss': 0.4360229958747231,\n",
       "  'AUC': 0.8786924022438749}}"
      ]
     },
     "execution_count": 516,
     "metadata": {},
     "output_type": "execute_result"
    }
   ],
   "source": [
    "clf.best_score_"
   ]
  },
  {
   "cell_type": "code",
   "execution_count": 517,
   "id": "b1ab0186",
   "metadata": {},
   "outputs": [],
   "source": [
    "#!jupyter nbextension enable --py widgetsnbextension"
   ]
  },
  {
   "cell_type": "code",
   "execution_count": 518,
   "id": "c2d2c9fe",
   "metadata": {},
   "outputs": [],
   "source": [
    "#!jupyter nbextension enable widgetsnbextension --user --py"
   ]
  }
 ],
 "metadata": {
  "kernelspec": {
   "display_name": "Python 3 (ipykernel)",
   "language": "python",
   "name": "python3"
  },
  "language_info": {
   "codemirror_mode": {
    "name": "ipython",
    "version": 3
   },
   "file_extension": ".py",
   "mimetype": "text/x-python",
   "name": "python",
   "nbconvert_exporter": "python",
   "pygments_lexer": "ipython3",
   "version": "3.8.9"
  }
 },
 "nbformat": 4,
 "nbformat_minor": 5
}
